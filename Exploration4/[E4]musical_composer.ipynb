{
 "cells": [
  {
   "cell_type": "code",
   "execution_count": 1,
   "id": "surgical-fifty",
   "metadata": {},
   "outputs": [],
   "source": [
    "import os, re, glob\n",
    "import matplotlib.pyplot as plt\n",
    "import numpy as np\n",
    "import tensorflow as tf\n",
    "\n",
    "from sklearn.model_selection import train_test_split"
   ]
  },
  {
   "cell_type": "markdown",
   "id": "presidential-keeping",
   "metadata": {},
   "source": [
    "## 1. Sentence data load"
   ]
  },
  {
   "cell_type": "markdown",
   "id": "favorite-clear",
   "metadata": {},
   "source": [
    "***\n",
    "\n",
    "<span style=\"font-size:12pt; line-height:1.5;\">\n",
    "문자가 저장된 데이터를 불러온 후, 문장 단위로 나누어 저장하는 과정이다.\n",
    "</span>\n",
    "\n",
    "***"
   ]
  },
  {
   "cell_type": "code",
   "execution_count": 73,
   "id": "written-andrew",
   "metadata": {},
   "outputs": [
    {
     "name": "stdout",
     "output_type": "stream",
     "text": [
      " There must be some kind of way outta here\n",
      "Said the joker to the thief\n",
      "There's too much confusion\n",
      "I can't get no relief Business men, they drink my wine\n"
     ]
    }
   ],
   "source": [
    "# /aiffel//lyricist/data/lyrics/* 경로를 설정.\n",
    "txt_file_path = os.getenv('HOME')+'/aiffel//lyricist/data/lyrics/*'\n",
    "\n",
    "# File I/O 라이브러리 glob를 활용하여 해당 경로의 파일을 모두 가져와 txt_list에 할당\n",
    "txt_list = glob.glob(txt_file_path)\n",
    "\n",
    "# 파일에 있는 단어 데이터를 저장할 list 변수를 생성\n",
    "raw_corpus = []\n",
    "\n",
    "# 다수 txt 파일을 모두 읽은 후, raw_copus에 저장\n",
    "for txt_file in txt_list:\n",
    "    with open(txt_file, \"r\") as f:\n",
    "        raw = f.read().splitlines()\n",
    "        raw_corpus.extend(raw)\n",
    "\n",
    "# [Test Code]        \n",
    "# enum을 활용하여 txt_file_path의 데이터를 idx, sentence 데이터로 언패킹하며 반복\n",
    "for idx, sentence in enumerate(raw_corpus): \n",
    "    \n",
    "    # sentence의 길이가 0이면 다음 반복문을 실행\n",
    "    if len(sentence) == 0: continue\n",
    "        \n",
    "    # stetence의 마지막 문자가 \":\" 이면 다음 반복문을 실행\n",
    "    if sentence[-1] == \":\": continue\n",
    "\n",
    "    # idx가 10 이상이면 반복문 종료\n",
    "    if idx > 3: break\n",
    "    \n",
    "    # entence 변수의 값 출력\n",
    "    print(sentence)"
   ]
  },
  {
   "cell_type": "markdown",
   "id": "chemical-investigator",
   "metadata": {},
   "source": [
    "## 2. sentence data preprocessing"
   ]
  },
  {
   "cell_type": "markdown",
   "id": "federal-liechtenstein",
   "metadata": {},
   "source": [
    "***\n",
    "\n",
    "<span style=\"font-size:12pt; line-height:1.5;\">\n",
    "단어 이외의 특수문자, 공백 등을 모두 제거하는 전처리 함수를 구현한다. 이는 필터의 역할을 수행한다.<br>\n",
    "기존 LMS의 데이터 전처리를 그대로 사용할 경우 토큰의 길이가 346이 나왔다.<br>\n",
    "이는 문장 중 길이가 346인 글이 있거나, 전처리 과정에서 잘못 처리되었을 가능성이 있다.<br>\n",
    "그래서, 문장의 길이가 50자 이상인 문장은 말뭉치 세트에 미포함 하여 토큰의 최대 길이를 제한하고자 한다.\n",
    "</span>\n",
    "\n",
    "***"
   ]
  },
  {
   "cell_type": "code",
   "execution_count": 74,
   "id": "wicked-submission",
   "metadata": {},
   "outputs": [],
   "source": [
    "# 문자 데이터 전처리 함수\n",
    "def preprocess_sentence(sentence):\n",
    "    # step1. 영문을 소문자로 바꾸고, 양쪽 공백 제거.\n",
    "    sentence = sentence.lower().strip()\n",
    "    \n",
    "    # step2. 특수문자 양쪽에 공백 부여\n",
    "    sentence = re.sub(r\"([?.!,¿])\", r\" \\1 \", sentence)\n",
    "    \n",
    "    # step3. 공백이 여러개이면 하나의 공백으로 변환\n",
    "    sentence = re.sub(r'[\" \"]+', \" \", sentence)\n",
    "    \n",
    "    # step4. 조건 문자 외의 다른 문자는 하나의 공백으로 변환\n",
    "    sentence = re.sub(r\"[^a-zA-Z?.!,¿]+\", \" \", sentence)\n",
    "    \n",
    "    # step5. 양쪽 공백 제거\n",
    "    sentence = sentence.strip()\n",
    "    \n",
    "    if len(sentence) > 50:\n",
    "        return False;\n",
    "    \n",
    "    # step6. 문장 시작과 끝에 문자 처리\n",
    "    sentence = '<start> ' + sentence + ' <end>'\n",
    "    \n",
    "    # step7. 결과 반환\n",
    "    return sentence\n"
   ]
  },
  {
   "cell_type": "code",
   "execution_count": 75,
   "id": "proper-spending",
   "metadata": {},
   "outputs": [
    {
     "name": "stdout",
     "output_type": "stream",
     "text": [
      "<start> this is sample sentence . <end>\n"
     ]
    }
   ],
   "source": [
    "# [Test code] preprocess_sentence()\n",
    "\n",
    "print(preprocess_sentence(\"This @_is ;;;sample        sentence.\"))"
   ]
  },
  {
   "cell_type": "markdown",
   "id": "filled-valley",
   "metadata": {},
   "source": [
    "## 3. corpus processing"
   ]
  },
  {
   "cell_type": "markdown",
   "id": "stretch-sound",
   "metadata": {},
   "source": [
    "***\n",
    "\n",
    "<span style=\"font-size:12pt; line-height:1.5;\">\n",
    "전처리 함수를 활용하여 raw_corpus 데이터를 정제하는 과정이다.<br>\n",
    "정제가 완료된 데이터는 corpus에 저장한다.\n",
    "</span>\n",
    "\n",
    "***"
   ]
  },
  {
   "cell_type": "code",
   "execution_count": 76,
   "id": "thousand-tuesday",
   "metadata": {},
   "outputs": [],
   "source": [
    "# 정제된 말뭉치를 저장할 list 변수 생성\n",
    "corpus = []\n",
    "\n",
    "# 정제가 안된 list 변수로부터 sentence 요소 개수만큼 반복\n",
    "for sentence in raw_corpus:\n",
    "    \n",
    "    # sentence의 길이가 0이면 다음 반복문을 실행\n",
    "    if len(sentence) == 0: continue \n",
    "        \n",
    "    # stetence의 마지막 문자가 \":\" 이면 다음 반복문을 실행\n",
    "    if sentence[-1] == \":\": continue \n",
    "    \n",
    "    # 문장 길이가 조건에 벗어난 경우\n",
    "    if(preprocess_sentence(sentence) == False):\n",
    "        continue;\n",
    "    else:\n",
    "        # 가공된 말뭉치 데이터를 corpus list 변수에 추가.\n",
    "        corpus.append(preprocess_sentence(sentence))"
   ]
  },
  {
   "cell_type": "code",
   "execution_count": 77,
   "id": "sustainable-turkish",
   "metadata": {},
   "outputs": [
    {
     "name": "stdout",
     "output_type": "stream",
     "text": [
      "['<start> there must be some kind of way outta here <end>', '<start> said the joker to the thief <end>', '<start> there s too much confusion <end>', '<start> plowman dig my earth <end>', '<start> none were level on the mind <end>', '<start> nobody up at his word <end>', '<start> hey , hey no reason to get excited <end>', '<start> the thief he kindly spoke <end>', '<start> there are many here among us <end>', '<start> who feel that life is but a joke <end>']\n",
      "142130\n"
     ]
    }
   ],
   "source": [
    "# [Test code] corpus list 요소 10개 확인\n",
    "\n",
    "print(corpus[:10])\n",
    "print(len(corpus))"
   ]
  },
  {
   "cell_type": "markdown",
   "id": "assured-ceramic",
   "metadata": {},
   "source": [
    "## 4. Tokenize"
   ]
  },
  {
   "cell_type": "markdown",
   "id": "southeast-lottery",
   "metadata": {},
   "source": [
    "***\n",
    "\n",
    "<span style=\"font-size:12pt; line-height:1.5;\">\n",
    "말뭉치(corpus) 데이터를 입력값으로, 토큰화와 텐서화를 진행한다.<br>\n",
    "토큰화 과정은, 각 단어마다 인덱스를 부여하는 과정이다.<br>\n",
    "텐서화 과정은, 각 단어를 저장하는 변수의 bit 길이가 일정하도록 패딩 또는 정제하는 과정이다.\n",
    "</span>\n",
    "\n",
    "***"
   ]
  },
  {
   "cell_type": "code",
   "execution_count": 78,
   "id": "therapeutic-foster",
   "metadata": {},
   "outputs": [],
   "source": [
    "#  토큰화 함수\n",
    "def tokenize(corpus):\n",
    "    \n",
    "    # step1. Tokenizer(단어 개수, 전처리 설정, 결측값 존재시 대체값)\n",
    "    tokenizer = tf.keras.preprocessing.text.Tokenizer(num_words=7000, filters=' ',oov_token=\"<unk>\")\n",
    "    \n",
    "    # step2. corpus를 이용해 tokenizer 내부의 단어장을 완성\n",
    "    tokenizer.fit_on_texts(corpus)\n",
    "    \n",
    "    # step3. token(Matrix)를 Tensor 구조로 변환\n",
    "    tensor = tokenizer.texts_to_sequences(corpus)\n",
    "    \n",
    "    # step4. 시퀀스 길이를 일정하게 설정. pad_sequences(텐서 데이터, padding='post' or padding='pre') \n",
    "    tensor = tf.keras.preprocessing.sequence.pad_sequences(tensor, padding='post')  \n",
    "    \n",
    "    # step5. tensor와 token 결과 반환\n",
    "    return tensor, tokenizer\n",
    "\n",
    "# tensor과정과 token 과정의 결과를 각 변수에 할당\n",
    "tensor, tokenizer = tokenize(corpus)"
   ]
  },
  {
   "cell_type": "code",
   "execution_count": 69,
   "id": "dress-conditioning",
   "metadata": {},
   "outputs": [],
   "source": [
    "# [Test Code] tensor의 0~2행, 0~9행 출력\n",
    "\n",
    "# print(tensor[:3, :-1])"
   ]
  },
  {
   "cell_type": "code",
   "execution_count": 79,
   "id": "statutory-bangkok",
   "metadata": {},
   "outputs": [
    {
     "name": "stdout",
     "output_type": "stream",
     "text": [
      "1 : <unk>\n",
      "2 : <start>\n",
      "3 : <end>\n",
      "4 : i\n",
      "5 : ,\n",
      "6 : the\n",
      "7 : you\n",
      "8 : and\n",
      "9 : a\n",
      "10 : to\n"
     ]
    }
   ],
   "source": [
    "# [Test Code] Tokenizer의 0~9번째 단어 출력\n",
    "\n",
    "for idx in tokenizer.index_word:\n",
    "    print(idx, \":\", tokenizer.index_word[idx]) \n",
    "    if idx >= 10: break"
   ]
  },
  {
   "cell_type": "markdown",
   "id": "precise-profile",
   "metadata": {},
   "source": [
    "## 5. Create Dataset(train, target)"
   ]
  },
  {
   "cell_type": "markdown",
   "id": "mexican-continuity",
   "metadata": {},
   "source": [
    "***\n",
    "\n",
    "<span style=\"font-size:12pt; line-height:1.5;\">\n",
    "RNN 모델에 사용할 학습용(train) 데이터와 테스트용(target) 데이터를 생성한다.\n",
    "</span>\n",
    "\n",
    "***"
   ]
  },
  {
   "cell_type": "code",
   "execution_count": 80,
   "id": "canadian-reaction",
   "metadata": {},
   "outputs": [],
   "source": [
    "# tensor의 행은 모두 사용하되, 마지막열은 제거\n",
    "# tensor의 마지막 열은 패딩된 데이터일 가능성이 높음\n",
    "train_input = tensor[:, :-1] \n",
    "\n",
    "# tensor의 행은 모두 사용하되, 열의 0번째는 제거\n",
    "# target 데이터에는 <start>가 필요없기 때문이다.\n",
    "target_input = tensor[:, 1:]"
   ]
  },
  {
   "cell_type": "code",
   "execution_count": 81,
   "id": "based-secretariat",
   "metadata": {},
   "outputs": [
    {
     "name": "stdout",
     "output_type": "stream",
     "text": [
      "[[   2   64  274   27   99  531   20   87  787   90    3    0    0    0\n",
      "     0    0    0    0    0    0    0]\n",
      " [   2  120    6 6093   10    6 2198    3    0    0    0    0    0    0\n",
      "     0    0    0    0    0    0    0]\n",
      " [   2   64   16   97  187 2806    3    0    0    0    0    0    0    0\n",
      "     0    0    0    0    0    0    0]]\n",
      "[[  64  274   27   99  531   20   87  787   90    3    0    0    0    0\n",
      "     0    0    0    0    0    0    0]\n",
      " [ 120    6 6093   10    6 2198    3    0    0    0    0    0    0    0\n",
      "     0    0    0    0    0    0    0]\n",
      " [  64   16   97  187 2806    3    0    0    0    0    0    0    0    0\n",
      "     0    0    0    0    0    0    0]]\n",
      "train_input :  142130\n",
      "target_input :  142130\n",
      "train_input :  (142130, 21)\n"
     ]
    }
   ],
   "source": [
    "# [Test Code] train data, target data 출력\n",
    "\n",
    "print(train_input[:3])\n",
    "print(target_input[:3])\n",
    "print(\"train_input : \", len(train_input))\n",
    "print(\"target_input : \", len(target_input))\n",
    "print(\"train_input : \", train_input.shape)"
   ]
  },
  {
   "cell_type": "code",
   "execution_count": 82,
   "id": "transparent-removal",
   "metadata": {},
   "outputs": [],
   "source": [
    "# 테스트용 데이터 생성\n",
    "train_x, validation_x, train_y, validation_y = train_test_split(train_input, target_input, test_size=0.2, random_state=1996)"
   ]
  },
  {
   "cell_type": "code",
   "execution_count": 96,
   "id": "subject-cabin",
   "metadata": {},
   "outputs": [],
   "source": [
    "# step1. 모델 입력 버퍼의 크기 설정 - train 데이터의 개수\n",
    "BUFFER_SIZE = len(train_input)\n",
    "\n",
    "# step2. 훈련 시 입력될 데이터 크기 설정\n",
    "BATCH_SIZE = 128\n",
    "\n",
    "# step3. 훈련용 데이터 개수/입력될 데이터 크기 설정 -> 1회 훈련(epcch)당 학습 횟수\n",
    "steps_per_epoch = len(train_input) // BATCH_SIZE\n",
    "\n",
    "# step4. tokenizer로 처리되지 않은 0:<pad>을 포함하기 위해 +1 설정 -> pad는 tensor에서 처리되었다.\n",
    "VOCAB_SIZE = tokenizer.num_words + 1   \n",
    "\n",
    "# step5. from_tensor_slices()에 훈련용 입력 데이터와 출력 데이터를 입력하고, 데이터 세트를 반환받은 후 저장한다.\n",
    "dataset = tf.data.Dataset.from_tensor_slices((train_x, train_y))\n",
    "\n",
    "# step6. 데이터 세트의 데이터를 무작위로 섞어준다.\n",
    "dataset = dataset.shuffle(BUFFER_SIZE)\n",
    "\n",
    "# step7. 데이터 세트의 배치 크기와, 배치 크기로 나눴을 때 남은 나머지를 버릴것인지 여부 설정\n",
    "dataset = dataset.batch(BATCH_SIZE, drop_remainder=True)\n",
    "\n",
    "\n",
    "# step8. from_tensor_slices()에 검증용 입력 데이터와 출력 데이터를 입력하고, 데이터 세트를 반환받은 후 저장한다.\n",
    "validation_dataset = tf.data.Dataset.from_tensor_slices((validation_x, validation_y))\n",
    "\n",
    "# step9. 검증용 데이터 세트의 데이터를 무작위로 섞어준다.\n",
    "validation_dataset = validation_dataset.shuffle(BUFFER_SIZE)\n",
    "\n",
    "# step10. 검증용 데이터 세트의 배치 크기와, 배치 크기로 나눴을 때 남은 나머지를 버릴것인지 여부 설정\n",
    "validation_dataset = validation_dataset.batch(BATCH_SIZE, drop_remainder=True)"
   ]
  },
  {
   "cell_type": "markdown",
   "id": "nonprofit-destruction",
   "metadata": {},
   "source": [
    "***\n",
    "\n",
    "GPU 메모리가 부족해서 모델을 빌드하지 못하는 오류가 있었다.\n",
    "\n",
    "+ ResourceExhaustedError: OOM when allocating tensor with shape[142130,7001] and type float on /job:localhost/replica:0/task:0/device:GPU:0 by allocator GPU_0_bfc [Op:RandomUniform]\n",
    "\n",
    "그래서 배치 사이즈를 256에서 128로 줄이자 해당 오류를 해결할 수 있었다.\n",
    "\n",
    "***"
   ]
  },
  {
   "cell_type": "code",
   "execution_count": 97,
   "id": "announced-thinking",
   "metadata": {},
   "outputs": [
    {
     "name": "stdout",
     "output_type": "stream",
     "text": [
      "<BatchDataset shapes: ((128, 21), (128, 21)), types: (tf.int32, tf.int32)>\n",
      "<BatchDataset shapes: ((128, 21), (128, 21)), types: (tf.int32, tf.int32)>\n"
     ]
    }
   ],
   "source": [
    "# [Test Code] dataset 데이터세트 출력\n",
    "\n",
    "print(dataset)\n",
    "print(validation_dataset)"
   ]
  },
  {
   "cell_type": "markdown",
   "id": "elementary-fundamentals",
   "metadata": {},
   "source": [
    "## 6. Model architecture design"
   ]
  },
  {
   "cell_type": "markdown",
   "id": "banner-silence",
   "metadata": {},
   "source": [
    "***\n",
    "\n",
    "<span style=\"font-size:12pt; line-height:1.5;\">\n",
    "텍스트를 생성하는 RNN기반 LSTM모델을 설계하는 과정이다.<br>\n",
    "\n",
    "\n",
    "</span>\n",
    "\n",
    "***"
   ]
  },
  {
   "cell_type": "code",
   "execution_count": 106,
   "id": "criminal-price",
   "metadata": {},
   "outputs": [],
   "source": [
    "class Text_to_Generator(tf.keras.Model):\n",
    "    \n",
    "    # TextGenerator 생성자\n",
    "    def __init__(self, vocab_size, embedding_size, hidden_size):\n",
    "        \n",
    "        # 부모 클래스의 생성자 실행\n",
    "        super().__init__()\n",
    "        \n",
    "        self.embedding = tf.keras.layers.Embedding(vocab_size, embedding_size)\n",
    "        self.rnn_1 = tf.keras.layers.LSTM(hidden_size, return_sequences=True)\n",
    "        self.rnn_2 = tf.keras.layers.LSTM(hidden_size, return_sequences=True)\n",
    "        self.linear = tf.keras.layers.Dense(vocab_size)\n",
    "        \n",
    "    def call(self, x):\n",
    "        out = self.embedding(x)\n",
    "        out = self.rnn_1(out)\n",
    "        out = self.rnn_2(out)\n",
    "        out = self.linear(out)\n",
    "        \n",
    "        return out\n",
    "\n",
    "    \n",
    "embedding_size = 256\n",
    "hidden_size = 1024\n",
    "model = Text_to_Generator(tokenizer.num_words + 1, embedding_size , hidden_size)"
   ]
  },
  {
   "cell_type": "code",
   "execution_count": 107,
   "id": "statistical-bride",
   "metadata": {},
   "outputs": [],
   "source": [
    "for src_sample, tgt_sample in dataset.take(1): break"
   ]
  },
  {
   "cell_type": "code",
   "execution_count": 108,
   "id": "harmful-cloud",
   "metadata": {},
   "outputs": [
    {
     "data": {
      "text/plain": [
       "<tf.Tensor: shape=(128, 21, 7001), dtype=float32, numpy=\n",
       "array([[[-2.0040231e-06, -2.7005700e-04, -1.8917782e-04, ...,\n",
       "         -2.3836942e-04, -1.9539006e-04, -1.6331834e-04],\n",
       "        [-1.6289303e-04, -2.5199889e-04, -3.8630448e-04, ...,\n",
       "         -4.0958688e-04, -2.4946869e-04, -5.5023407e-05],\n",
       "        [-3.6375434e-04, -3.0886155e-04, -4.7627668e-04, ...,\n",
       "         -4.4853220e-04, -5.4338525e-05,  9.3838826e-05],\n",
       "        ...,\n",
       "        [-6.6417707e-03,  7.0299621e-04,  1.9075160e-03, ...,\n",
       "         -9.1361854e-04,  2.9871522e-03, -1.9508444e-03],\n",
       "        [-7.0315269e-03,  6.2227203e-04,  1.9522689e-03, ...,\n",
       "         -8.8199880e-04,  3.1519472e-03, -2.0574632e-03],\n",
       "        [-7.3680035e-03,  5.3996284e-04,  1.9777403e-03, ...,\n",
       "         -8.4204704e-04,  3.2923270e-03, -2.1586062e-03]],\n",
       "\n",
       "       [[-2.0040231e-06, -2.7005700e-04, -1.8917782e-04, ...,\n",
       "         -2.3836942e-04, -1.9539006e-04, -1.6331834e-04],\n",
       "        [-1.4082382e-04, -1.6879378e-04, -5.2280183e-04, ...,\n",
       "          3.0381803e-04, -2.5751875e-04, -2.3605183e-04],\n",
       "        [-2.7576002e-04, -1.4286870e-04, -4.1716170e-04, ...,\n",
       "          7.1158208e-04, -2.4137954e-04, -1.1970662e-04],\n",
       "        ...,\n",
       "        [-6.2031536e-03,  1.4003493e-03,  2.0552734e-03, ...,\n",
       "         -7.9507753e-04,  2.7347484e-03, -1.6558140e-03],\n",
       "        [-6.6542393e-03,  1.2769171e-03,  2.0979601e-03, ...,\n",
       "         -7.8115618e-04,  2.9287327e-03, -1.8426683e-03],\n",
       "        [-7.0481244e-03,  1.1444254e-03,  2.1206343e-03, ...,\n",
       "         -7.5776369e-04,  3.0969423e-03, -2.0089683e-03]],\n",
       "\n",
       "       [[-2.0040231e-06, -2.7005700e-04, -1.8917782e-04, ...,\n",
       "         -2.3836942e-04, -1.9539006e-04, -1.6331834e-04],\n",
       "        [-1.3203139e-04, -5.7980337e-04, -3.9741237e-04, ...,\n",
       "         -1.9357838e-04, -6.9808091e-05, -1.9341016e-04],\n",
       "        [ 3.3816894e-05, -7.5650361e-04, -7.2076585e-04, ...,\n",
       "          3.0024006e-05, -7.6050426e-05, -2.3675311e-04],\n",
       "        ...,\n",
       "        [-6.8939268e-03,  5.7346094e-04,  1.5914937e-03, ...,\n",
       "         -1.7461147e-04,  2.5812793e-03, -1.6868332e-03],\n",
       "        [-7.2827847e-03,  5.2757905e-04,  1.6626717e-03, ...,\n",
       "         -2.6132262e-04,  2.7896271e-03, -1.8608124e-03],\n",
       "        [-7.6127318e-03,  4.7311399e-04,  1.7186296e-03, ...,\n",
       "         -3.2868475e-04,  2.9714759e-03, -2.0169879e-03]],\n",
       "\n",
       "       ...,\n",
       "\n",
       "       [[-2.0040231e-06, -2.7005700e-04, -1.8917782e-04, ...,\n",
       "         -2.3836942e-04, -1.9539006e-04, -1.6331834e-04],\n",
       "        [ 2.3843779e-05, -1.9637123e-04, -2.4362025e-04, ...,\n",
       "         -5.3571090e-05, -4.2245141e-04, -1.6271129e-04],\n",
       "        [-2.3084553e-04, -1.0295802e-04, -1.9421661e-04, ...,\n",
       "         -6.2151885e-05, -4.7409241e-04, -2.5437749e-04],\n",
       "        ...,\n",
       "        [-8.3880881e-03,  3.2044831e-04,  1.9481211e-03, ...,\n",
       "         -5.3435675e-04,  3.6298262e-03, -2.4749388e-03],\n",
       "        [-8.5278517e-03,  2.7522474e-04,  1.9463327e-03, ...,\n",
       "         -5.2064244e-04,  3.7073609e-03, -2.5346747e-03],\n",
       "        [-8.6440947e-03,  2.3655695e-04,  1.9408484e-03, ...,\n",
       "         -5.0531793e-04,  3.7704192e-03, -2.5881357e-03]],\n",
       "\n",
       "       [[-2.0040231e-06, -2.7005700e-04, -1.8917782e-04, ...,\n",
       "         -2.3836942e-04, -1.9539006e-04, -1.6331834e-04],\n",
       "        [-5.7057183e-05, -3.3821806e-04, -1.0314859e-03, ...,\n",
       "         -4.5257859e-04,  4.8213613e-05, -2.7760855e-04],\n",
       "        [-4.4725210e-05, -4.6230177e-04, -1.6392476e-03, ...,\n",
       "         -6.5090443e-04,  2.3653849e-04, -4.6710571e-05],\n",
       "        ...,\n",
       "        [-6.3282121e-03,  1.3172440e-03,  1.4758935e-03, ...,\n",
       "         -8.1472937e-04,  2.8370274e-03, -1.9870861e-03],\n",
       "        [-6.8099275e-03,  1.2044576e-03,  1.6049956e-03, ...,\n",
       "         -8.1173994e-04,  3.0315956e-03, -2.0956043e-03],\n",
       "        [-7.2270548e-03,  1.0782352e-03,  1.7062797e-03, ...,\n",
       "         -7.9657545e-04,  3.2003995e-03, -2.1950542e-03]],\n",
       "\n",
       "       [[-2.0040231e-06, -2.7005700e-04, -1.8917782e-04, ...,\n",
       "         -2.3836942e-04, -1.9539006e-04, -1.6331834e-04],\n",
       "        [-1.3203139e-04, -5.7980337e-04, -3.9741237e-04, ...,\n",
       "         -1.9357838e-04, -6.9808091e-05, -1.9341016e-04],\n",
       "        [-1.4256402e-04, -9.1926067e-04, -3.4963532e-04, ...,\n",
       "         -1.6557904e-04, -1.5921357e-04, -4.4971035e-04],\n",
       "        ...,\n",
       "        [-7.3653464e-03,  5.9296284e-04,  1.9303447e-03, ...,\n",
       "         -3.8943754e-04,  3.1936497e-03, -2.2101670e-03],\n",
       "        [-7.6517905e-03,  5.4143823e-04,  1.9614832e-03, ...,\n",
       "         -4.2692755e-04,  3.3395761e-03, -2.3157236e-03],\n",
       "        [-7.8990292e-03,  4.8861123e-04,  1.9783047e-03, ...,\n",
       "         -4.4891410e-04,  3.4626068e-03, -2.4084400e-03]]], dtype=float32)>"
      ]
     },
     "execution_count": 108,
     "metadata": {},
     "output_type": "execute_result"
    }
   ],
   "source": [
    "model(src_sample)"
   ]
  },
  {
   "cell_type": "code",
   "execution_count": 109,
   "id": "informative-proof",
   "metadata": {},
   "outputs": [
    {
     "name": "stdout",
     "output_type": "stream",
     "text": [
      "Model: \"text_to__generator_4\"\n",
      "_________________________________________________________________\n",
      "Layer (type)                 Output Shape              Param #   \n",
      "=================================================================\n",
      "embedding_4 (Embedding)      multiple                  1792256   \n",
      "_________________________________________________________________\n",
      "lstm_8 (LSTM)                multiple                  5246976   \n",
      "_________________________________________________________________\n",
      "lstm_9 (LSTM)                multiple                  8392704   \n",
      "_________________________________________________________________\n",
      "dense_4 (Dense)              multiple                  7176025   \n",
      "=================================================================\n",
      "Total params: 22,607,961\n",
      "Trainable params: 22,607,961\n",
      "Non-trainable params: 0\n",
      "_________________________________________________________________\n"
     ]
    }
   ],
   "source": [
    "model.summary()"
   ]
  },
  {
   "cell_type": "markdown",
   "id": "residential-kazakhstan",
   "metadata": {},
   "source": [
    "## 7. Model train"
   ]
  },
  {
   "cell_type": "markdown",
   "id": "tough-warner",
   "metadata": {},
   "source": [
    "***\n",
    "\n",
    "<span style=\"font-size:12pt; line-height:1.5;\">\n",
    "텍스트를 생성하는 RNN기반 LSTM모델을 학습하는 과정이다.<br>\n",
    "\n",
    "\n",
    "</span>\n",
    "\n",
    "***"
   ]
  },
  {
   "cell_type": "code",
   "execution_count": 110,
   "id": "related-congress",
   "metadata": {},
   "outputs": [],
   "source": [
    "optimizer = tf.keras.optimizers.Adam(learning_rate=0.001)\n",
    "loss = tf.keras.losses.SparseCategoricalCrossentropy(from_logits=True, reduction='none')\n",
    "\n",
    "model.compile(loss=loss, optimizer=optimizer, metrics=['accuracy'])"
   ]
  },
  {
   "cell_type": "code",
   "execution_count": 111,
   "id": "christian-developer",
   "metadata": {},
   "outputs": [
    {
     "name": "stdout",
     "output_type": "stream",
     "text": [
      "Epoch 1/10\n",
      "888/888 [==============================] - 203s 225ms/step - loss: 2.3960 - accuracy: 0.6645 - val_loss: 1.8509 - val_accuracy: 0.7005\n",
      "Epoch 2/10\n",
      "888/888 [==============================] - 201s 226ms/step - loss: 1.8058 - accuracy: 0.7032 - val_loss: 1.7297 - val_accuracy: 0.7096\n",
      "Epoch 3/10\n",
      "888/888 [==============================] - 201s 226ms/step - loss: 1.6744 - accuracy: 0.7121 - val_loss: 1.6535 - val_accuracy: 0.7161\n",
      "Epoch 4/10\n",
      "888/888 [==============================] - 200s 225ms/step - loss: 1.5755 - accuracy: 0.7203 - val_loss: 1.5990 - val_accuracy: 0.7222\n",
      "Epoch 5/10\n",
      "888/888 [==============================] - 201s 226ms/step - loss: 1.4836 - accuracy: 0.7285 - val_loss: 1.5557 - val_accuracy: 0.7278\n",
      "Epoch 6/10\n",
      "888/888 [==============================] - 200s 225ms/step - loss: 1.4073 - accuracy: 0.7365 - val_loss: 1.5229 - val_accuracy: 0.7331\n",
      "Epoch 7/10\n",
      "888/888 [==============================] - 200s 225ms/step - loss: 1.3320 - accuracy: 0.7456 - val_loss: 1.4943 - val_accuracy: 0.7388\n",
      "Epoch 8/10\n",
      "888/888 [==============================] - 201s 226ms/step - loss: 1.2642 - accuracy: 0.7548 - val_loss: 1.4721 - val_accuracy: 0.7436\n",
      "Epoch 9/10\n",
      "888/888 [==============================] - 201s 226ms/step - loss: 1.1962 - accuracy: 0.7651 - val_loss: 1.4523 - val_accuracy: 0.7485\n",
      "Epoch 10/10\n",
      "888/888 [==============================] - 201s 226ms/step - loss: 1.1284 - accuracy: 0.7762 - val_loss: 1.4390 - val_accuracy: 0.7533\n"
     ]
    }
   ],
   "source": [
    "result = model.fit(dataset, epochs=10, validation_data=validation_dataset, verbose=1)"
   ]
  },
  {
   "cell_type": "markdown",
   "id": "attempted-doctor",
   "metadata": {},
   "source": [
    "***\n",
    "\n",
    "<span style=\"font-size:12pt; line-height:1.5;\">\n",
    "10번의 훈련을 수행한 결과는 위 결과와 같았다.<br>\n",
    "    \n",
    "    \n",
    "훈련 정확도와 검증 정확도의 편차가 크지 않고, Loss도 편차가 크지 않은 모습을 보인다.<br>\n",
    "하지만 epoch5 부터 훈련 데이터와 검증 데이터간의 값의 편차가 점점 커지는 모습을 보여주고 있다.<br>\n",
    "위 결과를 시각화 하여 좀 더 명확하게 확인해보자. \n",
    "</span>\n",
    "\n",
    "***"
   ]
  },
  {
   "cell_type": "code",
   "execution_count": 135,
   "id": "finished-stand",
   "metadata": {},
   "outputs": [],
   "source": [
    "def line_plot(epoch, history, list_of_metrics):\n",
    "    \n",
    "    fig, ax = plt.subplots(1,2)\n",
    "    \n",
    "    for i in range(len(ax)):\n",
    "        ax[i].set_xlabel('Epochs')\n",
    "        ax[i].set_ylabel('Value')\n",
    "        \n",
    "        for n in range(len(list_of_metrics)):\n",
    "            if i == 0:\n",
    "                y = history[list_of_metrics[n]]\n",
    "                if n == 0:\n",
    "                    ax[i].plot(epoch, y, label=\"train\")\n",
    "                else:\n",
    "                    ax[i].plot(epoch, y, label=\"validation\")\n",
    "                ax[i].set_title('Loss')\n",
    "                ax[i].legend(loc='upper right')\n",
    "                if n == 1:\n",
    "                    break\n",
    "            else:\n",
    "                if n >= 2:\n",
    "                    y = history[list_of_metrics[n]]\n",
    "                    if n == 2:\n",
    "                        ax[i].plot(epoch, y, label=\"train\")\n",
    "                    else:\n",
    "                        ax[i].plot(epoch, y, label=\"validation\")\n",
    "                    ax[i].set_title('Accuracy')\n",
    "                    ax[i].legend(loc='lower right')\n",
    "                    \n",
    "    plt.show()"
   ]
  },
  {
   "cell_type": "code",
   "execution_count": 136,
   "id": "certified-strain",
   "metadata": {},
   "outputs": [
    {
     "data": {
      "image/png": "[encoded data removed]",
      "text/plain": [
       "<Figure size 864x576 with 2 Axes>"
      ]
     },
     "metadata": {
      "needs_background": "light"
     },
     "output_type": "display_data"
    }
   ],
   "source": [
    "line_plot(result.epoch, result.history, ['loss', 'val_loss', 'accuracy', 'val_accuracy'])"
   ]
  },
  {
   "cell_type": "markdown",
   "id": "earlier-conversation",
   "metadata": {},
   "source": [
    "***\n",
    "\n",
    "<span style=\"font-size:12pt; line-height:1.5;\">\n",
    "위 그래프를 통해, 5번째 에포크부터 오버 피팅의 모습을 보여주었다.<br>\n",
    "위 현상을 개선하기 위해, 다음 모델 생성시 학습률을 낮추거나 더 많은 훈련 데이터를 추가해주는것이 좋겠다.\n",
    "</span>\n",
    "\n",
    "***"
   ]
  },
  {
   "cell_type": "markdown",
   "id": "english-providence",
   "metadata": {},
   "source": [
    "## 8. Model test"
   ]
  },
  {
   "cell_type": "markdown",
   "id": "turned-tribe",
   "metadata": {},
   "source": [
    "***\n",
    "\n",
    "<span style=\"font-size:12pt; line-height:1.5;\">\n",
    "학습된 모델로 텍스트를 생성하는 과정이다.<br>\n",
    "</span>\n",
    "\n",
    "***"
   ]
  },
  {
   "cell_type": "code",
   "execution_count": 91,
   "id": "assigned-nigeria",
   "metadata": {},
   "outputs": [],
   "source": [
    "# 3. 텍스트 생성\n",
    "def generate_text(model, tokenizer, init_sentence=\"<start>\", max_len=15):\n",
    "    \n",
    "    # step1. 모델의 입력값이 텐서이므로, 문장을 텐서 구조로 변환.\n",
    "    test_input = tokenizer.texts_to_sequences([init_sentence])\n",
    "    test_tensor = tf.convert_to_tensor(test_input, dtype=tf.int64)\n",
    "    end_token = tokenizer.word_index[\"<end>\"]\n",
    "\n",
    "    # step2. 1단어 단위로 생성하기 위한 무한루프 \n",
    "    while True:\n",
    "        \n",
    "        # step2-1. 모델의 예측값으로 단어 생성\n",
    "        predict = model(test_tensor)  # 입력받은 문장의 텐서를 입력합니다. \n",
    "        predict_word = tf.argmax(tf.nn.softmax(predict, axis=-1), axis=-1)[:, -1]\n",
    "\n",
    "        # step2-2. 생성한 단어를 기존 문장 뒤에 결합\n",
    "        test_tensor = tf.concat([test_tensor, tf.expand_dims(predict_word, axis=0)], axis=-1)\n",
    "\n",
    "        # step2-3. 모델 예측값 == <End> 토큰 : 반복문 종료\n",
    "        if predict_word.numpy()[0] == end_token: break\n",
    "            \n",
    "        # step2-4. 모델 예측값 >= 문장 내 단어 최대 개수 : 반복문 종료\n",
    "        if test_tensor.shape[1] >= max_len: break\n",
    "\n",
    "    # step3. word index 값에 맞춰 단어 조합\n",
    "    generated = \"\"\n",
    "    for word_index in test_tensor[0].numpy():\n",
    "        generated += tokenizer.index_word[word_index] + \" \"\n",
    "\n",
    "    return generated"
   ]
  },
  {
   "cell_type": "markdown",
   "id": "contained-overview",
   "metadata": {},
   "source": [
    "***\n",
    "\n",
    "<span style=\"font-size:12pt; line-height:1.5;\">\n",
    "위 텍스트 생성기 함수를 활용하여 말뭉치 모음집에 있는 단어를 일부 제시하여 20자 이내의 간단한 문장을 생성해보자 한다.<br>\n",
    "</span>\n",
    "\n",
    "***"
   ]
  },
  {
   "cell_type": "code",
   "execution_count": 104,
   "id": "prescription-uncle",
   "metadata": {},
   "outputs": [
    {
     "data": {
      "text/plain": [
       "'<start> god knows you re the only one <end> '"
      ]
     },
     "execution_count": 104,
     "metadata": {},
     "output_type": "execute_result"
    }
   ],
   "source": [
    "generate_text(model, tokenizer, init_sentence=\"<start> god\", max_len=20)"
   ]
  },
  {
   "cell_type": "markdown",
   "id": "raising-airline",
   "metadata": {},
   "source": [
    "***\n",
    "<span style=\"font-size:12pt; line-height:1.5;\">\n",
    "'신은 당신이 유일한 사람이란걸 알고 있다' 라는 명언을 생산했다. 여러분 모두 소중한 사람이다.<br>\n",
    "이번엔 자신이 누군지 물어보는 텍스트를 생성시켜보았다.\n",
    "</span>\n",
    "\n",
    "***"
   ]
  },
  {
   "cell_type": "code",
   "execution_count": 112,
   "id": "fatty-burns",
   "metadata": {},
   "outputs": [
    {
     "data": {
      "text/plain": [
       "'<start> i am a god <end> '"
      ]
     },
     "execution_count": 112,
     "metadata": {},
     "output_type": "execute_result"
    }
   ],
   "source": [
    "generate_text(model, tokenizer, init_sentence=\"<start> I am\", max_len=20)"
   ]
  },
  {
   "cell_type": "markdown",
   "id": "august-diving",
   "metadata": {},
   "source": [
    "***\n",
    "<span style=\"font-size:12pt; line-height:1.5;\">\n",
    "'나는 신이다' 라는 자신감을 나타내었다. 자신감 있는 모습이 보기 좋다.<br>\n",
    "이번엔 노래 가사에 주로 쓰이는 '사랑'을 주제로 텍스트를 생성해보았다.\n",
    "</span>\n",
    "\n",
    "***"
   ]
  },
  {
   "cell_type": "code",
   "execution_count": 113,
   "id": "proved-custom",
   "metadata": {},
   "outputs": [
    {
     "data": {
      "text/plain": [
       "'<start> love is a beautiful thing <end> '"
      ]
     },
     "execution_count": 113,
     "metadata": {},
     "output_type": "execute_result"
    }
   ],
   "source": [
    "generate_text(model, tokenizer, init_sentence=\"<start> love\", max_len=20)"
   ]
  },
  {
   "cell_type": "markdown",
   "id": "collectible-configuration",
   "metadata": {},
   "source": [
    "***\n",
    "\n",
    "<span style=\"font-size:12pt; line-height:1.5;\">\n",
    "'사랑은 아름다운 것이다.' 라며 사랑에 빠진 모습을 보여주었다. 오래오래 사랑하길.<br>\n",
    "이번엔 명사가 아닌 부사로 사용되는 'some'이란 단어로 텍스트를 생성시켜 보았다.\n",
    "</span>\n",
    "\n",
    "***"
   ]
  },
  {
   "cell_type": "code",
   "execution_count": 120,
   "id": "rational-phrase",
   "metadata": {},
   "outputs": [
    {
     "data": {
      "text/plain": [
       "'<start> some people want diamond rings <end> '"
      ]
     },
     "execution_count": 120,
     "metadata": {},
     "output_type": "execute_result"
    }
   ],
   "source": [
    "generate_text(model, tokenizer, init_sentence=\"<start> some\", max_len=20)"
   ]
  },
  {
   "cell_type": "markdown",
   "id": "unlikely-boring",
   "metadata": {},
   "source": [
    "***\n",
    "\n",
    "<span style=\"font-size:12pt; line-height:1.5;\">\n",
    "'어떤 사람들은 다이아몬드 반지를 원한다' 라며 보석에 대한 사람들의 소망을 말해준다. 필자도 원한다.<br>\n",
    "마지막으로 단어장에 없는 '아이펠'로 텍스트를 생성하도록 시켜보았다.\n",
    "</span>\n",
    "\n",
    "***"
   ]
  },
  {
   "cell_type": "code",
   "execution_count": 121,
   "id": "distinct-porcelain",
   "metadata": {},
   "outputs": [
    {
     "data": {
      "text/plain": [
       "'<start> <unk> <unk> <unk> <unk> <end> '"
      ]
     },
     "execution_count": 121,
     "metadata": {},
     "output_type": "execute_result"
    }
   ],
   "source": [
    "generate_text(model, tokenizer, init_sentence=\"<start> aiffel\", max_len=20)"
   ]
  },
  {
   "cell_type": "markdown",
   "id": "committed-mount",
   "metadata": {},
   "source": [
    "***\n",
    "\n",
    "<span style=\"font-size:12pt; line-height:1.5;\">\n",
    "말뭉치 모음집에 없는 단어는 생성하지 못하는 모습을 보여주었다.\n",
    "</span>\n",
    "\n",
    "***"
   ]
  }
 ],
 "metadata": {
  "kernelspec": {
   "display_name": "Python 3",
   "language": "python",
   "name": "python3"
  },
  "language_info": {
   "codemirror_mode": {
    "name": "ipython",
    "version": 3
   },
   "file_extension": ".py",
   "mimetype": "text/x-python",
   "name": "python",
   "nbconvert_exporter": "python",
   "pygments_lexer": "ipython3",
   "version": "3.7.9"
  }
 },
 "nbformat": 4,
 "nbformat_minor": 5
}
