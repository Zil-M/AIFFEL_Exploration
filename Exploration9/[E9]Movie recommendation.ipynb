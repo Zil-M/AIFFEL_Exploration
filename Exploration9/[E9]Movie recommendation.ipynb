{
 "cells": [
  {
   "cell_type": "code",
   "execution_count": 3,
   "id": "technical-residence",
   "metadata": {},
   "outputs": [],
   "source": [
    "import os\n",
    "import cufflinks\n",
    "import numpy as np\n",
    "import pandas as pd\n",
    "import seaborn as sns\n",
    "import missingno as msno\n",
    "import matplotlib.pyplot as plt\n",
    "\n",
    "from scipy.sparse import csr_matrix\n",
    "from implicit.als import AlternatingLeastSquares"
   ]
  },
  {
   "cell_type": "markdown",
   "id": "earned-blues",
   "metadata": {},
   "source": [
    "# 1. Data load"
   ]
  },
  {
   "cell_type": "markdown",
   "id": "statutory-religion",
   "metadata": {},
   "source": [
    "<span style=\"font-family: Open Sans; font-weight: 700; font-size: 14px; font-style: normal\">\n",
    "\n",
    "> 사용자-영화-평점 데이터가 저장된 'rating.dat', 'movies.dat' 데이터를 CSV 형식으로 가공 후, 데이터의 내용을 확인한다.\n",
    "    \n",
    "</span>"
   ]
  },
  {
   "cell_type": "markdown",
   "id": "macro-laugh",
   "metadata": {},
   "source": [
    "# 1.1 User data load"
   ]
  },
  {
   "cell_type": "markdown",
   "id": "trying-fifth",
   "metadata": {},
   "source": [
    "<span style=\"font-family: Open Sans; font-weight: 700; font-size: 14px; font-style: normal\">\n",
    "\n",
    "> 사용자의 평점 데이터가 저장된 'rating.dat' 데이터를 CSV 형식으로 가공 후, 데이터의 내용을 확인한다.\n",
    "    \n",
    "</span>"
   ]
  },
  {
   "cell_type": "code",
   "execution_count": 4,
   "id": "widespread-property",
   "metadata": {},
   "outputs": [
    {
     "data": {
      "text/html": [
       "<div>\n",
       "<style scoped>\n",
       "    .dataframe tbody tr th:only-of-type {\n",
       "        vertical-align: middle;\n",
       "    }\n",
       "\n",
       "    .dataframe tbody tr th {\n",
       "        vertical-align: top;\n",
       "    }\n",
       "\n",
       "    .dataframe thead th {\n",
       "        text-align: right;\n",
       "    }\n",
       "</style>\n",
       "<table border=\"1\" class=\"dataframe\">\n",
       "  <thead>\n",
       "    <tr style=\"text-align: right;\">\n",
       "      <th></th>\n",
       "      <th>user_id</th>\n",
       "      <th>movie_id</th>\n",
       "      <th>ratings</th>\n",
       "      <th>timestamp</th>\n",
       "    </tr>\n",
       "  </thead>\n",
       "  <tbody>\n",
       "    <tr>\n",
       "      <th>0</th>\n",
       "      <td>1</td>\n",
       "      <td>1193</td>\n",
       "      <td>5</td>\n",
       "      <td>978300760</td>\n",
       "    </tr>\n",
       "    <tr>\n",
       "      <th>1</th>\n",
       "      <td>1</td>\n",
       "      <td>661</td>\n",
       "      <td>3</td>\n",
       "      <td>978302109</td>\n",
       "    </tr>\n",
       "    <tr>\n",
       "      <th>2</th>\n",
       "      <td>1</td>\n",
       "      <td>914</td>\n",
       "      <td>3</td>\n",
       "      <td>978301968</td>\n",
       "    </tr>\n",
       "    <tr>\n",
       "      <th>3</th>\n",
       "      <td>1</td>\n",
       "      <td>3408</td>\n",
       "      <td>4</td>\n",
       "      <td>978300275</td>\n",
       "    </tr>\n",
       "    <tr>\n",
       "      <th>4</th>\n",
       "      <td>1</td>\n",
       "      <td>2355</td>\n",
       "      <td>5</td>\n",
       "      <td>978824291</td>\n",
       "    </tr>\n",
       "  </tbody>\n",
       "</table>\n",
       "</div>"
      ],
      "text/plain": [
       "   user_id  movie_id  ratings  timestamp\n",
       "0        1      1193        5  978300760\n",
       "1        1       661        3  978302109\n",
       "2        1       914        3  978301968\n",
       "3        1      3408        4  978300275\n",
       "4        1      2355        5  978824291"
      ]
     },
     "execution_count": 4,
     "metadata": {},
     "output_type": "execute_result"
    }
   ],
   "source": [
    "rating_file_path=os.getenv('HOME') + '/aiffel/recommendata_iu/data/ml-1m/ratings.dat'\n",
    "ratings_cols = ['user_id', 'movie_id', 'ratings', 'timestamp']\n",
    "\n",
    "ratings = pd.read_csv(rating_file_path, sep='::', names=ratings_cols, engine='python', encoding = \"ISO-8859-1\")\n",
    "\n",
    "orginal_data_size = len(ratings)\n",
    "ratings.head()"
   ]
  },
  {
   "cell_type": "markdown",
   "id": "blind-destiny",
   "metadata": {},
   "source": [
    "<span style=\"font-family: Open Sans; font-weight: 700; font-size: 14px; font-style: normal\">\n",
    "\n",
    "> 불러온 데이터는 유저ID, 영화ID, 별점, 작성시간으로 총 4가지 정보를 가지고 있다.\n",
    "    \n",
    "</span>"
   ]
  },
  {
   "cell_type": "code",
   "execution_count": 5,
   "id": "thousand-damage",
   "metadata": {},
   "outputs": [
    {
     "data": {
      "text/html": [
       "<div>\n",
       "<style scoped>\n",
       "    .dataframe tbody tr th:only-of-type {\n",
       "        vertical-align: middle;\n",
       "    }\n",
       "\n",
       "    .dataframe tbody tr th {\n",
       "        vertical-align: top;\n",
       "    }\n",
       "\n",
       "    .dataframe thead th {\n",
       "        text-align: right;\n",
       "    }\n",
       "</style>\n",
       "<table border=\"1\" class=\"dataframe\">\n",
       "  <thead>\n",
       "    <tr style=\"text-align: right;\">\n",
       "      <th></th>\n",
       "      <th>user_id</th>\n",
       "      <th>movie_id</th>\n",
       "      <th>ratings</th>\n",
       "    </tr>\n",
       "  </thead>\n",
       "  <tbody>\n",
       "    <tr>\n",
       "      <th>0</th>\n",
       "      <td>1</td>\n",
       "      <td>1193</td>\n",
       "      <td>5</td>\n",
       "    </tr>\n",
       "    <tr>\n",
       "      <th>1</th>\n",
       "      <td>1</td>\n",
       "      <td>661</td>\n",
       "      <td>3</td>\n",
       "    </tr>\n",
       "    <tr>\n",
       "      <th>2</th>\n",
       "      <td>1</td>\n",
       "      <td>914</td>\n",
       "      <td>3</td>\n",
       "    </tr>\n",
       "    <tr>\n",
       "      <th>3</th>\n",
       "      <td>1</td>\n",
       "      <td>3408</td>\n",
       "      <td>4</td>\n",
       "    </tr>\n",
       "    <tr>\n",
       "      <th>4</th>\n",
       "      <td>1</td>\n",
       "      <td>2355</td>\n",
       "      <td>5</td>\n",
       "    </tr>\n",
       "  </tbody>\n",
       "</table>\n",
       "</div>"
      ],
      "text/plain": [
       "   user_id  movie_id  ratings\n",
       "0        1      1193        5\n",
       "1        1       661        3\n",
       "2        1       914        3\n",
       "3        1      3408        4\n",
       "4        1      2355        5"
      ]
     },
     "execution_count": 5,
     "metadata": {},
     "output_type": "execute_result"
    }
   ],
   "source": [
    "del ratings['timestamp']\n",
    "ratings.head()"
   ]
  },
  {
   "cell_type": "markdown",
   "id": "disturbed-equipment",
   "metadata": {},
   "source": [
    "<span style=\"font-family: Open Sans; font-weight: 700; font-size: 14px; font-style: normal\">\n",
    "\n",
    "> 영화 추천 시스템에 리뷰 작성 시간은 필요없는 정보라 생각하여 해당 컬럼을 삭제했다.\n",
    "    \n",
    "</span>"
   ]
  },
  {
   "cell_type": "markdown",
   "id": "excess-daughter",
   "metadata": {},
   "source": [
    "# 1.2 Movie data load"
   ]
  },
  {
   "cell_type": "markdown",
   "id": "industrial-grave",
   "metadata": {},
   "source": [
    "<span style=\"font-family: Open Sans; font-weight: 700; font-size: 14px; font-style: normal\">\n",
    "\n",
    "> 영화의 데이터가 저장된 'movies.dat' 데이터를 CSV 형식으로 가공 후, 데이터의 내용을 확인한다.\n",
    "    \n",
    "</span>"
   ]
  },
  {
   "cell_type": "code",
   "execution_count": 6,
   "id": "classical-colors",
   "metadata": {},
   "outputs": [
    {
     "data": {
      "text/html": [
       "<div>\n",
       "<style scoped>\n",
       "    .dataframe tbody tr th:only-of-type {\n",
       "        vertical-align: middle;\n",
       "    }\n",
       "\n",
       "    .dataframe tbody tr th {\n",
       "        vertical-align: top;\n",
       "    }\n",
       "\n",
       "    .dataframe thead th {\n",
       "        text-align: right;\n",
       "    }\n",
       "</style>\n",
       "<table border=\"1\" class=\"dataframe\">\n",
       "  <thead>\n",
       "    <tr style=\"text-align: right;\">\n",
       "      <th></th>\n",
       "      <th>movie_id</th>\n",
       "      <th>title</th>\n",
       "      <th>genre</th>\n",
       "    </tr>\n",
       "  </thead>\n",
       "  <tbody>\n",
       "    <tr>\n",
       "      <th>0</th>\n",
       "      <td>1</td>\n",
       "      <td>Toy Story (1995)</td>\n",
       "      <td>Animation|Children's|Comedy</td>\n",
       "    </tr>\n",
       "    <tr>\n",
       "      <th>1</th>\n",
       "      <td>2</td>\n",
       "      <td>Jumanji (1995)</td>\n",
       "      <td>Adventure|Children's|Fantasy</td>\n",
       "    </tr>\n",
       "    <tr>\n",
       "      <th>2</th>\n",
       "      <td>3</td>\n",
       "      <td>Grumpier Old Men (1995)</td>\n",
       "      <td>Comedy|Romance</td>\n",
       "    </tr>\n",
       "    <tr>\n",
       "      <th>3</th>\n",
       "      <td>4</td>\n",
       "      <td>Waiting to Exhale (1995)</td>\n",
       "      <td>Comedy|Drama</td>\n",
       "    </tr>\n",
       "    <tr>\n",
       "      <th>4</th>\n",
       "      <td>5</td>\n",
       "      <td>Father of the Bride Part II (1995)</td>\n",
       "      <td>Comedy</td>\n",
       "    </tr>\n",
       "  </tbody>\n",
       "</table>\n",
       "</div>"
      ],
      "text/plain": [
       "   movie_id                               title                         genre\n",
       "0         1                    Toy Story (1995)   Animation|Children's|Comedy\n",
       "1         2                      Jumanji (1995)  Adventure|Children's|Fantasy\n",
       "2         3             Grumpier Old Men (1995)                Comedy|Romance\n",
       "3         4            Waiting to Exhale (1995)                  Comedy|Drama\n",
       "4         5  Father of the Bride Part II (1995)                        Comedy"
      ]
     },
     "execution_count": 6,
     "metadata": {},
     "output_type": "execute_result"
    }
   ],
   "source": [
    "movie_file_path=os.getenv('HOME') + '/aiffel/recommendata_iu/data/ml-1m/movies.dat'\n",
    "cols = ['movie_id', 'title', 'genre'] \n",
    "movies = pd.read_csv(movie_file_path, sep='::', names=cols, engine='python', encoding='ISO-8859-1')\n",
    "movies.head()"
   ]
  },
  {
   "cell_type": "markdown",
   "id": "worldwide-uncle",
   "metadata": {},
   "source": [
    "<span style=\"font-family: Open Sans; font-weight: 700; font-size: 14px; font-style: normal\">\n",
    "\n",
    "> 불러온 데이터는 영화ID, 영화 이름, 장르, 총 3가지 정보를 가지고 있다.\n",
    "    \n",
    "</span>"
   ]
  },
  {
   "cell_type": "markdown",
   "id": "western-bullet",
   "metadata": {},
   "source": [
    "## 1.3 Check missing values"
   ]
  },
  {
   "cell_type": "markdown",
   "id": "drawn-monte",
   "metadata": {},
   "source": [
    "<span style=\"font-family: Open Sans; font-weight: 700; font-size: 14px; font-style: normal\">\n",
    "\n",
    "> 불러온 데이터에 결측치가 있는지 확인하는 작업을 수행한다.\n",
    "    \n",
    "</span>"
   ]
  },
  {
   "cell_type": "markdown",
   "id": "corporate-diagnosis",
   "metadata": {},
   "source": [
    "### 1.3.1 check ratings data"
   ]
  },
  {
   "cell_type": "code",
   "execution_count": 7,
   "id": "liquid-blast",
   "metadata": {},
   "outputs": [
    {
     "data": {
      "text/plain": [
       "<AxesSubplot:>"
      ]
     },
     "execution_count": 7,
     "metadata": {},
     "output_type": "execute_result"
    },
    {
     "data": {
      "image/png": "[encoded data removed]",
      "text/plain": [
       "<Figure size 1800x720 with 2 Axes>"
      ]
     },
     "metadata": {
      "needs_background": "light"
     },
     "output_type": "display_data"
    }
   ],
   "source": [
    "msno.matrix(ratings)"
   ]
  },
  {
   "cell_type": "code",
   "execution_count": 8,
   "id": "covered-greene",
   "metadata": {},
   "outputs": [
    {
     "data": {
      "text/plain": [
       "<AxesSubplot:>"
      ]
     },
     "execution_count": 8,
     "metadata": {},
     "output_type": "execute_result"
    },
    {
     "data": {
      "image/png": "[encoded data removed]",
      "text/plain": [
       "<Figure size 1728x720 with 3 Axes>"
      ]
     },
     "metadata": {
      "needs_background": "light"
     },
     "output_type": "display_data"
    }
   ],
   "source": [
    "msno.bar(ratings)"
   ]
  },
  {
   "cell_type": "markdown",
   "id": "caroline-bhutan",
   "metadata": {},
   "source": [
    "<span style=\"font-family: Open Sans; font-weight: 700; font-size: 14px; font-style: normal\">\n",
    "\n",
    "> rating 데이터는 시각적, 수치적 분석에서 결측치가 관찰되지 않았다.\n",
    "    \n",
    "</span>"
   ]
  },
  {
   "cell_type": "markdown",
   "id": "charitable-wellington",
   "metadata": {},
   "source": [
    "### 1.3.2 check movies data"
   ]
  },
  {
   "cell_type": "code",
   "execution_count": 9,
   "id": "freelance-kernel",
   "metadata": {},
   "outputs": [
    {
     "data": {
      "text/plain": [
       "<AxesSubplot:>"
      ]
     },
     "execution_count": 9,
     "metadata": {},
     "output_type": "execute_result"
    },
    {
     "data": {
      "image/png": "[encoded data removed]",
      "text/plain": [
       "<Figure size 1800x720 with 2 Axes>"
      ]
     },
     "metadata": {
      "needs_background": "light"
     },
     "output_type": "display_data"
    }
   ],
   "source": [
    "msno.matrix(movies)"
   ]
  },
  {
   "cell_type": "code",
   "execution_count": 10,
   "id": "hungarian-headset",
   "metadata": {},
   "outputs": [
    {
     "data": {
      "text/plain": [
       "<AxesSubplot:>"
      ]
     },
     "execution_count": 10,
     "metadata": {},
     "output_type": "execute_result"
    },
    {
     "data": {
      "image/png": "[encoded data removed]",
      "text/plain": [
       "<Figure size 1728x720 with 3 Axes>"
      ]
     },
     "metadata": {
      "needs_background": "light"
     },
     "output_type": "display_data"
    }
   ],
   "source": [
    "msno.bar(movies)"
   ]
  },
  {
   "cell_type": "markdown",
   "id": "hidden-death",
   "metadata": {},
   "source": [
    "<span style=\"font-family: Open Sans; font-weight: 700; font-size: 14px; font-style: normal\">\n",
    "\n",
    "> movies 데이터에도 시각적, 수치적 분석에서 결측치가 관찰되지 않았다.\n",
    "    \n",
    "</span>"
   ]
  },
  {
   "cell_type": "markdown",
   "id": "involved-attribute",
   "metadata": {},
   "source": [
    "# 2. Data preprocessing"
   ]
  },
  {
   "cell_type": "markdown",
   "id": "incident-appraisal",
   "metadata": {},
   "source": [
    "<span style=\"font-family: Open Sans; font-weight: 700; font-size: 14px; font-style: normal\">\n",
    "\n",
    "> 기획단계에서 유저가 3점 미만으로 준 데이터는 해당 영화를 선호하지 않는다고 가정하고 제외하기로 했으므로,<br> 별점이 3점 이상인 데이터만 추출하는 과정을 수행한다\n",
    "    \n",
    "</span>"
   ]
  },
  {
   "cell_type": "code",
   "execution_count": 11,
   "id": "inclusive-exposure",
   "metadata": {},
   "outputs": [],
   "source": [
    "ratings = ratings[ratings['ratings']>=3]\n",
    "filtered_data_size = len(ratings)"
   ]
  },
  {
   "cell_type": "markdown",
   "id": "assumed-grill",
   "metadata": {},
   "source": [
    "<span style=\"font-family: Open Sans; font-weight: 700; font-size: 14px; font-style: normal\">\n",
    "\n",
    "> 전처리 이후 평점이 3점 이상인 데이터는 83.63%로, 16.37%의 데이터가 3점 미만이였음을 확인할 수 있다.\n",
    "    \n",
    "</span>"
   ]
  },
  {
   "cell_type": "code",
   "execution_count": 12,
   "id": "equivalent-wallet",
   "metadata": {},
   "outputs": [
    {
     "name": "stdout",
     "output_type": "stream",
     "text": [
      "원본 데이터 개수: 1000209\n",
      "전처리 작업 후 데이터 개수: 836478\n",
      "평점이 3점 이상인 데이터의 비율 : 83.63%\n"
     ]
    }
   ],
   "source": [
    "print(f'원본 데이터 개수: {orginal_data_size}')\n",
    "print(f'전처리 작업 후 데이터 개수: {filtered_data_size}')\n",
    "print(f'평점이 3점 이상인 데이터의 비율 : {filtered_data_size / orginal_data_size:.2%}')"
   ]
  },
  {
   "cell_type": "markdown",
   "id": "starting-orchestra",
   "metadata": {},
   "source": [
    "<span style=\"font-family: Open Sans; font-weight: 700; font-size: 14px; font-style: normal\">\n",
    "\n",
    "> 기획단계에서 별점을 시청횟수로 정의하기로 했으므로, ratings 컬럼의 이름을 counts로 변환하는 과정을 수행한다\n",
    "    \n",
    "</span>"
   ]
  },
  {
   "cell_type": "code",
   "execution_count": 13,
   "id": "assisted-appearance",
   "metadata": {},
   "outputs": [
    {
     "data": {
      "text/html": [
       "<div>\n",
       "<style scoped>\n",
       "    .dataframe tbody tr th:only-of-type {\n",
       "        vertical-align: middle;\n",
       "    }\n",
       "\n",
       "    .dataframe tbody tr th {\n",
       "        vertical-align: top;\n",
       "    }\n",
       "\n",
       "    .dataframe thead th {\n",
       "        text-align: right;\n",
       "    }\n",
       "</style>\n",
       "<table border=\"1\" class=\"dataframe\">\n",
       "  <thead>\n",
       "    <tr style=\"text-align: right;\">\n",
       "      <th></th>\n",
       "      <th>user_id</th>\n",
       "      <th>movie_id</th>\n",
       "      <th>counts</th>\n",
       "    </tr>\n",
       "  </thead>\n",
       "  <tbody>\n",
       "    <tr>\n",
       "      <th>0</th>\n",
       "      <td>1</td>\n",
       "      <td>1193</td>\n",
       "      <td>5</td>\n",
       "    </tr>\n",
       "    <tr>\n",
       "      <th>1</th>\n",
       "      <td>1</td>\n",
       "      <td>661</td>\n",
       "      <td>3</td>\n",
       "    </tr>\n",
       "    <tr>\n",
       "      <th>2</th>\n",
       "      <td>1</td>\n",
       "      <td>914</td>\n",
       "      <td>3</td>\n",
       "    </tr>\n",
       "    <tr>\n",
       "      <th>3</th>\n",
       "      <td>1</td>\n",
       "      <td>3408</td>\n",
       "      <td>4</td>\n",
       "    </tr>\n",
       "    <tr>\n",
       "      <th>4</th>\n",
       "      <td>1</td>\n",
       "      <td>2355</td>\n",
       "      <td>5</td>\n",
       "    </tr>\n",
       "  </tbody>\n",
       "</table>\n",
       "</div>"
      ],
      "text/plain": [
       "   user_id  movie_id  counts\n",
       "0        1      1193       5\n",
       "1        1       661       3\n",
       "2        1       914       3\n",
       "3        1      3408       4\n",
       "4        1      2355       5"
      ]
     },
     "execution_count": 13,
     "metadata": {},
     "output_type": "execute_result"
    }
   ],
   "source": [
    "ratings.rename(columns={'ratings':'counts'}, inplace=True)\n",
    "ratings.head()"
   ]
  },
  {
   "cell_type": "markdown",
   "id": "existing-visitor",
   "metadata": {},
   "source": [
    "## 3. Exploratory data analysis"
   ]
  },
  {
   "cell_type": "markdown",
   "id": "gross-meter",
   "metadata": {},
   "source": [
    "### 3.1. 별점(리뷰)에 있는 유니크한 사용자 수"
   ]
  },
  {
   "cell_type": "markdown",
   "id": "charming-version",
   "metadata": {},
   "source": [
    "<span style=\"font-family: Open Sans; font-weight: 700; font-size: 14px; font-style: normal\">\n",
    "\n",
    "> 전체 리뷰 중 유저의 수를 확인하는 과정을 수행했다.\n",
    "    \n",
    "</span>"
   ]
  },
  {
   "cell_type": "code",
   "execution_count": 14,
   "id": "proper-mobility",
   "metadata": {},
   "outputs": [
    {
     "name": "stdout",
     "output_type": "stream",
     "text": [
      "유저 리뷰 수 : 836478명\n",
      "유저 수 : 6039명\n"
     ]
    }
   ],
   "source": [
    "print('유저 리뷰 수 : {}명'.format(len(ratings['user_id'])))\n",
    "print('유저 수 : {}명'.format(ratings['user_id'].nunique()))"
   ]
  },
  {
   "cell_type": "markdown",
   "id": "funny-analysis",
   "metadata": {},
   "source": [
    "<span style=\"font-family: Open Sans; font-weight: 700; font-size: 14px; font-style: normal\">\n",
    "\n",
    "> 리뷰를 많이 쓴 유저도 궁금하여 리뷰어TOP10을 확인하는 과정을 수행했다.\n",
    "    \n",
    "</span>"
   ]
  },
  {
   "cell_type": "code",
   "execution_count": 15,
   "id": "robust-category",
   "metadata": {},
   "outputs": [
    {
     "data": {
      "text/html": [
       "<div>\n",
       "<style scoped>\n",
       "    .dataframe tbody tr th:only-of-type {\n",
       "        vertical-align: middle;\n",
       "    }\n",
       "\n",
       "    .dataframe tbody tr th {\n",
       "        vertical-align: top;\n",
       "    }\n",
       "\n",
       "    .dataframe thead th {\n",
       "        text-align: right;\n",
       "    }\n",
       "</style>\n",
       "<table border=\"1\" class=\"dataframe\">\n",
       "  <thead>\n",
       "    <tr style=\"text-align: right;\">\n",
       "      <th></th>\n",
       "      <th>user_id</th>\n",
       "      <th>review_count</th>\n",
       "    </tr>\n",
       "  </thead>\n",
       "  <tbody>\n",
       "    <tr>\n",
       "      <th>0</th>\n",
       "      <td>4169</td>\n",
       "      <td>1968</td>\n",
       "    </tr>\n",
       "    <tr>\n",
       "      <th>1</th>\n",
       "      <td>4277</td>\n",
       "      <td>1715</td>\n",
       "    </tr>\n",
       "    <tr>\n",
       "      <th>2</th>\n",
       "      <td>1680</td>\n",
       "      <td>1515</td>\n",
       "    </tr>\n",
       "    <tr>\n",
       "      <th>3</th>\n",
       "      <td>3618</td>\n",
       "      <td>1146</td>\n",
       "    </tr>\n",
       "    <tr>\n",
       "      <th>4</th>\n",
       "      <td>1015</td>\n",
       "      <td>1145</td>\n",
       "    </tr>\n",
       "    <tr>\n",
       "      <th>5</th>\n",
       "      <td>5831</td>\n",
       "      <td>1136</td>\n",
       "    </tr>\n",
       "    <tr>\n",
       "      <th>6</th>\n",
       "      <td>2909</td>\n",
       "      <td>1119</td>\n",
       "    </tr>\n",
       "    <tr>\n",
       "      <th>7</th>\n",
       "      <td>1941</td>\n",
       "      <td>1116</td>\n",
       "    </tr>\n",
       "    <tr>\n",
       "      <th>8</th>\n",
       "      <td>424</td>\n",
       "      <td>1106</td>\n",
       "    </tr>\n",
       "    <tr>\n",
       "      <th>9</th>\n",
       "      <td>1980</td>\n",
       "      <td>1054</td>\n",
       "    </tr>\n",
       "  </tbody>\n",
       "</table>\n",
       "</div>"
      ],
      "text/plain": [
       "   user_id  review_count\n",
       "0     4169          1968\n",
       "1     4277          1715\n",
       "2     1680          1515\n",
       "3     3618          1146\n",
       "4     1015          1145\n",
       "5     5831          1136\n",
       "6     2909          1119\n",
       "7     1941          1116\n",
       "8      424          1106\n",
       "9     1980          1054"
      ]
     },
     "execution_count": 15,
     "metadata": {},
     "output_type": "execute_result"
    }
   ],
   "source": [
    "x = ratings['user_id'].value_counts().reset_index()\n",
    "x.rename(columns={'user_id':'review_count'}, inplace=True)\n",
    "x.rename(columns={'index':'user_id'}, inplace=True)\n",
    "x[:10]"
   ]
  },
  {
   "cell_type": "markdown",
   "id": "unavailable-factory",
   "metadata": {},
   "source": [
    "<span style=\"font-family: Open Sans; font-weight: 700; font-size: 14px; font-style: normal\">\n",
    "\n",
    "> 랭킹 10위권 유저는 리뷰를 1000회 이상 작성했음을 확인할 수 있다.<br>랭킹 1위는 2000회에 근접한 리뷰를 작성한 위엄을 보여주었다.\n",
    "    \n",
    "</span>"
   ]
  },
  {
   "cell_type": "markdown",
   "id": "automated-argument",
   "metadata": {},
   "source": [
    "### 3.2. 별점(리뷰)에 있는 유니크한 영화 개수"
   ]
  },
  {
   "cell_type": "markdown",
   "id": "occupied-meaning",
   "metadata": {},
   "source": [
    "<span style=\"font-family: Open Sans; font-weight: 700; font-size: 14px; font-style: normal\">\n",
    "\n",
    "> 전체 리뷰 중 영화의 개수를 확인하는 과정을 수행했다.\n",
    "    \n",
    "</span>"
   ]
  },
  {
   "cell_type": "code",
   "execution_count": 16,
   "id": "operating-blond",
   "metadata": {},
   "outputs": [
    {
     "name": "stdout",
     "output_type": "stream",
     "text": [
      "영화 리뷰 개수 : 836478개\n",
      "영화 수 : 3628편\n"
     ]
    }
   ],
   "source": [
    "print('영화 리뷰 개수 : {}개'.format(len(ratings['movie_id'])))\n",
    "print('영화 수 : {}편'.format(ratings['movie_id'].nunique()))"
   ]
  },
  {
   "cell_type": "markdown",
   "id": "unauthorized-evaluation",
   "metadata": {},
   "source": [
    "### 3.3. 가장 인기 있는 영화 TOP30(리뷰 개수 순)"
   ]
  },
  {
   "cell_type": "markdown",
   "id": "wound-dominican",
   "metadata": {},
   "source": [
    "<span style=\"font-family: Open Sans; font-weight: 700; font-size: 14px; font-style: normal\">\n",
    "\n",
    "> 리뷰가 많이 작성된 영화도 궁금하여 리뷰 많은 영화TOP30을 확인하는 과정을 수행했다.\n",
    "    \n",
    "</span>"
   ]
  },
  {
   "cell_type": "code",
   "execution_count": 17,
   "id": "polished-printing",
   "metadata": {},
   "outputs": [
    {
     "data": {
      "text/html": [
       "<div>\n",
       "<style scoped>\n",
       "    .dataframe tbody tr th:only-of-type {\n",
       "        vertical-align: middle;\n",
       "    }\n",
       "\n",
       "    .dataframe tbody tr th {\n",
       "        vertical-align: top;\n",
       "    }\n",
       "\n",
       "    .dataframe thead th {\n",
       "        text-align: right;\n",
       "    }\n",
       "</style>\n",
       "<table border=\"1\" class=\"dataframe\">\n",
       "  <thead>\n",
       "    <tr style=\"text-align: right;\">\n",
       "      <th></th>\n",
       "      <th>movie_id</th>\n",
       "      <th>review_count</th>\n",
       "      <th>title</th>\n",
       "      <th>genre</th>\n",
       "    </tr>\n",
       "  </thead>\n",
       "  <tbody>\n",
       "    <tr>\n",
       "      <th>0</th>\n",
       "      <td>2858</td>\n",
       "      <td>3211</td>\n",
       "      <td>American Beauty (1999)</td>\n",
       "      <td>Comedy|Drama</td>\n",
       "    </tr>\n",
       "    <tr>\n",
       "      <th>1</th>\n",
       "      <td>260</td>\n",
       "      <td>2910</td>\n",
       "      <td>Star Wars: Episode IV - A New Hope (1977)</td>\n",
       "      <td>Action|Adventure|Fantasy|Sci-Fi</td>\n",
       "    </tr>\n",
       "    <tr>\n",
       "      <th>2</th>\n",
       "      <td>1196</td>\n",
       "      <td>2885</td>\n",
       "      <td>Star Wars: Episode V - The Empire Strikes Back...</td>\n",
       "      <td>Action|Adventure|Drama|Sci-Fi|War</td>\n",
       "    </tr>\n",
       "    <tr>\n",
       "      <th>3</th>\n",
       "      <td>1210</td>\n",
       "      <td>2716</td>\n",
       "      <td>Star Wars: Episode VI - Return of the Jedi (1983)</td>\n",
       "      <td>Action|Adventure|Romance|Sci-Fi|War</td>\n",
       "    </tr>\n",
       "    <tr>\n",
       "      <th>4</th>\n",
       "      <td>2028</td>\n",
       "      <td>2561</td>\n",
       "      <td>Saving Private Ryan (1998)</td>\n",
       "      <td>Action|Drama|War</td>\n",
       "    </tr>\n",
       "    <tr>\n",
       "      <th>5</th>\n",
       "      <td>589</td>\n",
       "      <td>2509</td>\n",
       "      <td>Terminator 2: Judgment Day (1991)</td>\n",
       "      <td>Action|Sci-Fi|Thriller</td>\n",
       "    </tr>\n",
       "    <tr>\n",
       "      <th>6</th>\n",
       "      <td>593</td>\n",
       "      <td>2498</td>\n",
       "      <td>Silence of the Lambs, The (1991)</td>\n",
       "      <td>Drama|Thriller</td>\n",
       "    </tr>\n",
       "    <tr>\n",
       "      <th>7</th>\n",
       "      <td>1198</td>\n",
       "      <td>2473</td>\n",
       "      <td>Raiders of the Lost Ark (1981)</td>\n",
       "      <td>Action|Adventure</td>\n",
       "    </tr>\n",
       "    <tr>\n",
       "      <th>8</th>\n",
       "      <td>1270</td>\n",
       "      <td>2460</td>\n",
       "      <td>Back to the Future (1985)</td>\n",
       "      <td>Comedy|Sci-Fi</td>\n",
       "    </tr>\n",
       "    <tr>\n",
       "      <th>9</th>\n",
       "      <td>2571</td>\n",
       "      <td>2434</td>\n",
       "      <td>Matrix, The (1999)</td>\n",
       "      <td>Action|Sci-Fi|Thriller</td>\n",
       "    </tr>\n",
       "    <tr>\n",
       "      <th>10</th>\n",
       "      <td>480</td>\n",
       "      <td>2413</td>\n",
       "      <td>Jurassic Park (1993)</td>\n",
       "      <td>Action|Adventure|Sci-Fi</td>\n",
       "    </tr>\n",
       "    <tr>\n",
       "      <th>11</th>\n",
       "      <td>2762</td>\n",
       "      <td>2385</td>\n",
       "      <td>Sixth Sense, The (1999)</td>\n",
       "      <td>Thriller</td>\n",
       "    </tr>\n",
       "    <tr>\n",
       "      <th>12</th>\n",
       "      <td>608</td>\n",
       "      <td>2371</td>\n",
       "      <td>Fargo (1996)</td>\n",
       "      <td>Crime|Drama|Thriller</td>\n",
       "    </tr>\n",
       "    <tr>\n",
       "      <th>13</th>\n",
       "      <td>110</td>\n",
       "      <td>2314</td>\n",
       "      <td>Braveheart (1995)</td>\n",
       "      <td>Action|Drama|War</td>\n",
       "    </tr>\n",
       "    <tr>\n",
       "      <th>14</th>\n",
       "      <td>1580</td>\n",
       "      <td>2297</td>\n",
       "      <td>Men in Black (1997)</td>\n",
       "      <td>Action|Adventure|Comedy|Sci-Fi</td>\n",
       "    </tr>\n",
       "    <tr>\n",
       "      <th>15</th>\n",
       "      <td>527</td>\n",
       "      <td>2257</td>\n",
       "      <td>Schindler's List (1993)</td>\n",
       "      <td>Drama|War</td>\n",
       "    </tr>\n",
       "    <tr>\n",
       "      <th>16</th>\n",
       "      <td>1197</td>\n",
       "      <td>2252</td>\n",
       "      <td>Princess Bride, The (1987)</td>\n",
       "      <td>Action|Adventure|Comedy|Romance</td>\n",
       "    </tr>\n",
       "    <tr>\n",
       "      <th>17</th>\n",
       "      <td>2396</td>\n",
       "      <td>2213</td>\n",
       "      <td>Shakespeare in Love (1998)</td>\n",
       "      <td>Comedy|Romance</td>\n",
       "    </tr>\n",
       "    <tr>\n",
       "      <th>18</th>\n",
       "      <td>1617</td>\n",
       "      <td>2210</td>\n",
       "      <td>L.A. Confidential (1997)</td>\n",
       "      <td>Crime|Film-Noir|Mystery|Thriller</td>\n",
       "    </tr>\n",
       "    <tr>\n",
       "      <th>19</th>\n",
       "      <td>318</td>\n",
       "      <td>2194</td>\n",
       "      <td>Shawshank Redemption, The (1994)</td>\n",
       "      <td>Drama</td>\n",
       "    </tr>\n",
       "    <tr>\n",
       "      <th>20</th>\n",
       "      <td>858</td>\n",
       "      <td>2167</td>\n",
       "      <td>Godfather, The (1972)</td>\n",
       "      <td>Action|Crime|Drama</td>\n",
       "    </tr>\n",
       "    <tr>\n",
       "      <th>21</th>\n",
       "      <td>1265</td>\n",
       "      <td>2121</td>\n",
       "      <td>Groundhog Day (1993)</td>\n",
       "      <td>Comedy|Romance</td>\n",
       "    </tr>\n",
       "    <tr>\n",
       "      <th>22</th>\n",
       "      <td>1097</td>\n",
       "      <td>2102</td>\n",
       "      <td>E.T. the Extra-Terrestrial (1982)</td>\n",
       "      <td>Children's|Drama|Fantasy|Sci-Fi</td>\n",
       "    </tr>\n",
       "    <tr>\n",
       "      <th>23</th>\n",
       "      <td>2997</td>\n",
       "      <td>2066</td>\n",
       "      <td>Being John Malkovich (1999)</td>\n",
       "      <td>Comedy</td>\n",
       "    </tr>\n",
       "    <tr>\n",
       "      <th>24</th>\n",
       "      <td>2716</td>\n",
       "      <td>2051</td>\n",
       "      <td>Ghostbusters (1984)</td>\n",
       "      <td>Comedy|Horror</td>\n",
       "    </tr>\n",
       "    <tr>\n",
       "      <th>25</th>\n",
       "      <td>296</td>\n",
       "      <td>2030</td>\n",
       "      <td>Pulp Fiction (1994)</td>\n",
       "      <td>Crime|Drama</td>\n",
       "    </tr>\n",
       "    <tr>\n",
       "      <th>26</th>\n",
       "      <td>356</td>\n",
       "      <td>2022</td>\n",
       "      <td>Forrest Gump (1994)</td>\n",
       "      <td>Comedy|Romance|War</td>\n",
       "    </tr>\n",
       "    <tr>\n",
       "      <th>27</th>\n",
       "      <td>1240</td>\n",
       "      <td>2019</td>\n",
       "      <td>Terminator, The (1984)</td>\n",
       "      <td>Action|Sci-Fi|Thriller</td>\n",
       "    </tr>\n",
       "    <tr>\n",
       "      <th>28</th>\n",
       "      <td>1</td>\n",
       "      <td>2000</td>\n",
       "      <td>Toy Story (1995)</td>\n",
       "      <td>Animation|Children's|Comedy</td>\n",
       "    </tr>\n",
       "    <tr>\n",
       "      <th>29</th>\n",
       "      <td>457</td>\n",
       "      <td>1941</td>\n",
       "      <td>Fugitive, The (1993)</td>\n",
       "      <td>Action|Thriller</td>\n",
       "    </tr>\n",
       "  </tbody>\n",
       "</table>\n",
       "</div>"
      ],
      "text/plain": [
       "    movie_id  review_count                                              title  \\\n",
       "0       2858          3211                             American Beauty (1999)   \n",
       "1        260          2910          Star Wars: Episode IV - A New Hope (1977)   \n",
       "2       1196          2885  Star Wars: Episode V - The Empire Strikes Back...   \n",
       "3       1210          2716  Star Wars: Episode VI - Return of the Jedi (1983)   \n",
       "4       2028          2561                         Saving Private Ryan (1998)   \n",
       "5        589          2509                  Terminator 2: Judgment Day (1991)   \n",
       "6        593          2498                   Silence of the Lambs, The (1991)   \n",
       "7       1198          2473                     Raiders of the Lost Ark (1981)   \n",
       "8       1270          2460                          Back to the Future (1985)   \n",
       "9       2571          2434                                 Matrix, The (1999)   \n",
       "10       480          2413                               Jurassic Park (1993)   \n",
       "11      2762          2385                            Sixth Sense, The (1999)   \n",
       "12       608          2371                                       Fargo (1996)   \n",
       "13       110          2314                                  Braveheart (1995)   \n",
       "14      1580          2297                                Men in Black (1997)   \n",
       "15       527          2257                            Schindler's List (1993)   \n",
       "16      1197          2252                         Princess Bride, The (1987)   \n",
       "17      2396          2213                         Shakespeare in Love (1998)   \n",
       "18      1617          2210                           L.A. Confidential (1997)   \n",
       "19       318          2194                   Shawshank Redemption, The (1994)   \n",
       "20       858          2167                              Godfather, The (1972)   \n",
       "21      1265          2121                               Groundhog Day (1993)   \n",
       "22      1097          2102                  E.T. the Extra-Terrestrial (1982)   \n",
       "23      2997          2066                        Being John Malkovich (1999)   \n",
       "24      2716          2051                                Ghostbusters (1984)   \n",
       "25       296          2030                                Pulp Fiction (1994)   \n",
       "26       356          2022                                Forrest Gump (1994)   \n",
       "27      1240          2019                             Terminator, The (1984)   \n",
       "28         1          2000                                   Toy Story (1995)   \n",
       "29       457          1941                               Fugitive, The (1993)   \n",
       "\n",
       "                                  genre  \n",
       "0                          Comedy|Drama  \n",
       "1       Action|Adventure|Fantasy|Sci-Fi  \n",
       "2     Action|Adventure|Drama|Sci-Fi|War  \n",
       "3   Action|Adventure|Romance|Sci-Fi|War  \n",
       "4                      Action|Drama|War  \n",
       "5                Action|Sci-Fi|Thriller  \n",
       "6                        Drama|Thriller  \n",
       "7                      Action|Adventure  \n",
       "8                         Comedy|Sci-Fi  \n",
       "9                Action|Sci-Fi|Thriller  \n",
       "10              Action|Adventure|Sci-Fi  \n",
       "11                             Thriller  \n",
       "12                 Crime|Drama|Thriller  \n",
       "13                     Action|Drama|War  \n",
       "14       Action|Adventure|Comedy|Sci-Fi  \n",
       "15                            Drama|War  \n",
       "16      Action|Adventure|Comedy|Romance  \n",
       "17                       Comedy|Romance  \n",
       "18     Crime|Film-Noir|Mystery|Thriller  \n",
       "19                                Drama  \n",
       "20                   Action|Crime|Drama  \n",
       "21                       Comedy|Romance  \n",
       "22      Children's|Drama|Fantasy|Sci-Fi  \n",
       "23                               Comedy  \n",
       "24                        Comedy|Horror  \n",
       "25                          Crime|Drama  \n",
       "26                   Comedy|Romance|War  \n",
       "27               Action|Sci-Fi|Thriller  \n",
       "28          Animation|Children's|Comedy  \n",
       "29                      Action|Thriller  "
      ]
     },
     "execution_count": 17,
     "metadata": {},
     "output_type": "execute_result"
    }
   ],
   "source": [
    "x = ratings['movie_id'].value_counts().reset_index()\n",
    "x.rename(columns={'movie_id':'review_count'}, inplace=True)\n",
    "x.rename(columns={'index':'movie_id'}, inplace=True)\n",
    "x = pd.merge(x, movies)\n",
    "x.head(30)"
   ]
  },
  {
   "cell_type": "markdown",
   "id": "uniform-marker",
   "metadata": {},
   "source": [
    "## 4. Add mymoive to the rating"
   ]
  },
  {
   "cell_type": "markdown",
   "id": "limited-tackle",
   "metadata": {},
   "source": [
    "<span style=\"font-family: Open Sans; font-weight: 700; font-size: 14px; font-style: normal\">\n",
    "\n",
    "> 자신이 리뷰어가 되어, 좋아하는 영화 5개에 대한 리뷰를 ratings 딕셔너리에 추가하는 작업을 수행한다.\n",
    "    \n",
    "</span>"
   ]
  },
  {
   "cell_type": "code",
   "execution_count": 18,
   "id": "underlying-dividend",
   "metadata": {},
   "outputs": [
    {
     "data": {
      "text/html": [
       "<div>\n",
       "<style scoped>\n",
       "    .dataframe tbody tr th:only-of-type {\n",
       "        vertical-align: middle;\n",
       "    }\n",
       "\n",
       "    .dataframe tbody tr th {\n",
       "        vertical-align: top;\n",
       "    }\n",
       "\n",
       "    .dataframe thead th {\n",
       "        text-align: right;\n",
       "    }\n",
       "</style>\n",
       "<table border=\"1\" class=\"dataframe\">\n",
       "  <thead>\n",
       "    <tr style=\"text-align: right;\">\n",
       "      <th></th>\n",
       "      <th>movie_id</th>\n",
       "      <th>title</th>\n",
       "      <th>genre</th>\n",
       "    </tr>\n",
       "  </thead>\n",
       "  <tbody>\n",
       "    <tr>\n",
       "      <th>0</th>\n",
       "      <td>1</td>\n",
       "      <td>Toy Story (1995)</td>\n",
       "      <td>Animation|Children's|Comedy</td>\n",
       "    </tr>\n",
       "    <tr>\n",
       "      <th>585</th>\n",
       "      <td>589</td>\n",
       "      <td>Terminator 2: Judgment Day (1991)</td>\n",
       "      <td>Action|Sci-Fi|Thriller</td>\n",
       "    </tr>\n",
       "    <tr>\n",
       "      <th>1245</th>\n",
       "      <td>1265</td>\n",
       "      <td>Groundhog Day (1993)</td>\n",
       "      <td>Comedy|Romance</td>\n",
       "    </tr>\n",
       "    <tr>\n",
       "      <th>1539</th>\n",
       "      <td>1580</td>\n",
       "      <td>Men in Black (1997)</td>\n",
       "      <td>Action|Adventure|Comedy|Sci-Fi</td>\n",
       "    </tr>\n",
       "    <tr>\n",
       "      <th>2789</th>\n",
       "      <td>2858</td>\n",
       "      <td>American Beauty (1999)</td>\n",
       "      <td>Comedy|Drama</td>\n",
       "    </tr>\n",
       "  </tbody>\n",
       "</table>\n",
       "</div>"
      ],
      "text/plain": [
       "      movie_id                              title  \\\n",
       "0            1                   Toy Story (1995)   \n",
       "585        589  Terminator 2: Judgment Day (1991)   \n",
       "1245      1265               Groundhog Day (1993)   \n",
       "1539      1580                Men in Black (1997)   \n",
       "2789      2858             American Beauty (1999)   \n",
       "\n",
       "                               genre  \n",
       "0        Animation|Children's|Comedy  \n",
       "585           Action|Sci-Fi|Thriller  \n",
       "1245                  Comedy|Romance  \n",
       "1539  Action|Adventure|Comedy|Sci-Fi  \n",
       "2789                    Comedy|Drama  "
      ]
     },
     "execution_count": 18,
     "metadata": {},
     "output_type": "execute_result"
    }
   ],
   "source": [
    "my_movie = ['American Beauty (1999)' , 'Terminator 2: Judgment Day (1991)' ,'Men in Black (1997)' ,'Groundhog Day (1993)' ,'Toy Story (1995)']\n",
    "my_movie_id = movies[movies['title'].isin(my_movie)]\n",
    "my_movie_id"
   ]
  },
  {
   "cell_type": "markdown",
   "id": "intimate-finish",
   "metadata": {},
   "source": [
    "<span style=\"font-family: Open Sans; font-weight: 700; font-size: 14px; font-style: normal\">\n",
    "\n",
    "> 호의를 가득 담아, 좋아하는 영화에 별점 5점을 주었다.\n",
    "    \n",
    "</span>"
   ]
  },
  {
   "cell_type": "code",
   "execution_count": 19,
   "id": "forbidden-sustainability",
   "metadata": {},
   "outputs": [
    {
     "data": {
      "text/html": [
       "<div>\n",
       "<style scoped>\n",
       "    .dataframe tbody tr th:only-of-type {\n",
       "        vertical-align: middle;\n",
       "    }\n",
       "\n",
       "    .dataframe tbody tr th {\n",
       "        vertical-align: top;\n",
       "    }\n",
       "\n",
       "    .dataframe thead th {\n",
       "        text-align: right;\n",
       "    }\n",
       "</style>\n",
       "<table border=\"1\" class=\"dataframe\">\n",
       "  <thead>\n",
       "    <tr style=\"text-align: right;\">\n",
       "      <th></th>\n",
       "      <th>user_id</th>\n",
       "      <th>movie_id</th>\n",
       "      <th>counts</th>\n",
       "    </tr>\n",
       "  </thead>\n",
       "  <tbody>\n",
       "    <tr>\n",
       "      <th>1000203</th>\n",
       "      <td>6040</td>\n",
       "      <td>1090</td>\n",
       "      <td>3</td>\n",
       "    </tr>\n",
       "    <tr>\n",
       "      <th>1000205</th>\n",
       "      <td>6040</td>\n",
       "      <td>1094</td>\n",
       "      <td>5</td>\n",
       "    </tr>\n",
       "    <tr>\n",
       "      <th>1000206</th>\n",
       "      <td>6040</td>\n",
       "      <td>562</td>\n",
       "      <td>5</td>\n",
       "    </tr>\n",
       "    <tr>\n",
       "      <th>1000207</th>\n",
       "      <td>6040</td>\n",
       "      <td>1096</td>\n",
       "      <td>4</td>\n",
       "    </tr>\n",
       "    <tr>\n",
       "      <th>1000208</th>\n",
       "      <td>6040</td>\n",
       "      <td>1097</td>\n",
       "      <td>4</td>\n",
       "    </tr>\n",
       "    <tr>\n",
       "      <th>0</th>\n",
       "      <td>6041</td>\n",
       "      <td>1</td>\n",
       "      <td>5</td>\n",
       "    </tr>\n",
       "    <tr>\n",
       "      <th>585</th>\n",
       "      <td>6041</td>\n",
       "      <td>589</td>\n",
       "      <td>5</td>\n",
       "    </tr>\n",
       "    <tr>\n",
       "      <th>1245</th>\n",
       "      <td>6041</td>\n",
       "      <td>1265</td>\n",
       "      <td>5</td>\n",
       "    </tr>\n",
       "    <tr>\n",
       "      <th>1539</th>\n",
       "      <td>6041</td>\n",
       "      <td>1580</td>\n",
       "      <td>5</td>\n",
       "    </tr>\n",
       "    <tr>\n",
       "      <th>2789</th>\n",
       "      <td>6041</td>\n",
       "      <td>2858</td>\n",
       "      <td>5</td>\n",
       "    </tr>\n",
       "  </tbody>\n",
       "</table>\n",
       "</div>"
      ],
      "text/plain": [
       "         user_id  movie_id  counts\n",
       "1000203     6040      1090       3\n",
       "1000205     6040      1094       5\n",
       "1000206     6040       562       5\n",
       "1000207     6040      1096       4\n",
       "1000208     6040      1097       4\n",
       "0           6041         1       5\n",
       "585         6041       589       5\n",
       "1245        6041      1265       5\n",
       "1539        6041      1580       5\n",
       "2789        6041      2858       5"
      ]
     },
     "execution_count": 19,
     "metadata": {},
     "output_type": "execute_result"
    }
   ],
   "source": [
    "my_movie = pd.DataFrame({'user_id': [6041]*5, 'movie_id': my_movie_id['movie_id'], 'counts':[5]*5})\n",
    "ratings = ratings.append(my_movie)\n",
    "ratings.tail(10)"
   ]
  },
  {
   "cell_type": "markdown",
   "id": "aggregate-receiver",
   "metadata": {},
   "source": [
    "<span style=\"font-family: Open Sans; font-weight: 700; font-size: 14px; font-style: normal\">\n",
    "\n",
    "> ratings 딕셔너리에 '6041'라는 유저ID로 좋아하는 'movie_id'가 잘 추가되었음을 확인할 수 있다.\n",
    "    \n",
    "</span>"
   ]
  },
  {
   "cell_type": "markdown",
   "id": "cathedral-omega",
   "metadata": {},
   "source": [
    "## 5. Indexing"
   ]
  },
  {
   "cell_type": "markdown",
   "id": "blond-college",
   "metadata": {},
   "source": [
    "<span style=\"font-family: Open Sans; font-weight: 700; font-size: 14px; font-style: normal\">\n",
    "\n",
    "> 유저 데이터의 관리를 쉽게 하기 위해 리스트를 제작하는 작업을 수행한다.\n",
    "    \n",
    "</span>"
   ]
  },
  {
   "cell_type": "code",
   "execution_count": 74,
   "id": "compressed-politics",
   "metadata": {},
   "outputs": [],
   "source": [
    "user_list = ratings['user_id'].unique()\n",
    "\n",
    "user_to_idx = {v:k for k,v in enumerate(user_list)}"
   ]
  },
  {
   "cell_type": "code",
   "execution_count": 38,
   "id": "running-promotion",
   "metadata": {},
   "outputs": [
    {
     "name": "stdout",
     "output_type": "stream",
     "text": [
      "6039\n"
     ]
    }
   ],
   "source": [
    "print(user_to_idx[6041])"
   ]
  },
  {
   "cell_type": "markdown",
   "id": "final-emperor",
   "metadata": {},
   "source": [
    "<span style=\"font-family: Open Sans; font-weight: 700; font-size: 14px; font-style: normal\">\n",
    "\n",
    "> rating의 UserID가 1인 유저는 user_to_idx의 index 0에 설정되었고, 자신이 추가한 UserID '6041'은 user_to_idx에서 index 6039가 된다.<br>\n",
    "따라서 인덱싱 작업이 잘 수행됬음을 확인 할 수 있다.\n",
    "    \n",
    "</span>"
   ]
  },
  {
   "cell_type": "markdown",
   "id": "satellite-stage",
   "metadata": {},
   "source": [
    "## 6. Create CSR matrix"
   ]
  },
  {
   "cell_type": "markdown",
   "id": "downtown-position",
   "metadata": {},
   "source": [
    "<span style=\"font-family: Open Sans; font-weight: 700; font-size: 14px; font-style: normal\">\n",
    "\n",
    "> 목차 3.1과 3.2에서 유저의 수와 영화의 개수 정보를 확보했다.<br>\n",
    "위 정보를 바탕으로 a명의 유저가 b개의 영화를 평가한 ratings 데이터를 포함한<br>\n",
    "(a,b) size의 평가행렬(Rating Matrix)을 만들수 있다.<br><br>\n",
    "그러나 (6041, 3628) 크기의 평가행렬은 데이터가 너무 크기에 개인용PC RAM에 적재할 수 없다.<br>\n",
    "이에 대한 대안으로 CSR Matrix를 사용하고자 한다.\n",
    "    \n",
    "</span>"
   ]
  },
  {
   "cell_type": "code",
   "execution_count": 23,
   "id": "exotic-resource",
   "metadata": {},
   "outputs": [
    {
     "data": {
      "text/plain": [
       "<6042x3953 sparse matrix of type '<class 'numpy.longlong'>'\n",
       "\twith 836483 stored elements in Compressed Sparse Row format>"
      ]
     },
     "execution_count": 23,
     "metadata": {},
     "output_type": "execute_result"
    }
   ],
   "source": [
    "num_user = ratings['user_id'].nunique()\n",
    "num_artist = ratings['movie_id'].nunique()\n",
    "\n",
    "csr_data = csr_matrix((ratings['counts'], (ratings.user_id, ratings.movie_id)))\n",
    "csr_data"
   ]
  },
  {
   "cell_type": "markdown",
   "id": "creative-middle",
   "metadata": {},
   "source": [
    "<span style=\"font-family: Open Sans; font-weight: 700; font-size: 14px; font-style: normal\">\n",
    "\n",
    "> 생성된 CSR Matrix의 indptr가 기존 유저수 index보다 1큰 값으로 잘 설정되어있음을 확인할 수 있다.\n",
    "    \n",
    "</span>"
   ]
  },
  {
   "cell_type": "markdown",
   "id": "african-championship",
   "metadata": {},
   "source": [
    "## 7.  Use AlternatingLeastSquares model"
   ]
  },
  {
   "cell_type": "markdown",
   "id": "exceptional-probe",
   "metadata": {},
   "source": [
    "<span style=\"font-family: Open Sans; font-weight: 700; font-size: 14px; font-style: normal\">\n",
    "\n",
    "> 리뷰의 점수는 유저가 해당 영화를 선호한다고 명시할 근거는 부족하다.<br>\n",
    "그렇지만, 리뷰 점수가 높을 수록 유저가 해당 영화를 선호할 가능성이 높다는 추론은 가능하다<br>\n",
    "이에, implicit dataset(암묵적 데이터)에 특화된 implicit 패키지를 활용하여 모델을 구성한다.<br>\n",
    "여러 모델 중, Matrix Factorization(MF)에서 유의미한 효과를 보이는 AlternatingLeastSquares model을 사용한다. AlternatingLeastSquares는 한쪽을 고정시키고 다른 쪽을 학습하는 방식을 번갈아 수행함으로써, 나뉘어져 있는 수 Feature Matrix의 구조로 인해 훈련 시 수렴이 잘 되지 않는 문제점을 극복한 방법이다.\n",
    "    \n",
    "    \n",
    "</span>"
   ]
  },
  {
   "cell_type": "code",
   "execution_count": 24,
   "id": "requested-pittsburgh",
   "metadata": {},
   "outputs": [],
   "source": [
    "os.environ['OPENBLAS_NUM_THREADS']='1'\n",
    "os.environ['KMP_DUPLICATE_LIB_OK']='True'\n",
    "os.environ['MKL_NUM_THREADS']='1'"
   ]
  },
  {
   "cell_type": "markdown",
   "id": "african-moisture",
   "metadata": {},
   "source": [
    "### 7.1  AlternatingLeastSquares model 선언"
   ]
  },
  {
   "cell_type": "code",
   "execution_count": 25,
   "id": "partial-month",
   "metadata": {},
   "outputs": [],
   "source": [
    "als_model = AlternatingLeastSquares(factors=100, regularization=0.01, use_gpu=False, iterations=15, dtype=np.float32)"
   ]
  },
  {
   "cell_type": "markdown",
   "id": "centered-wireless",
   "metadata": {},
   "source": [
    "### 7.2  input data processing"
   ]
  },
  {
   "cell_type": "markdown",
   "id": "located-guinea",
   "metadata": {},
   "source": [
    "<span style=\"font-family: Open Sans; font-weight: 700; font-size: 14px; font-style: normal\">\n",
    "\n",
    "> AlternatingLeastSquares 이하, als 모델은 input으로 (유저 수 X 영화 개수)구조의 matrix를 받는다.<br> 이를 위해 순서를 바꿔주는 전치(Transpose) 과정을 진행한다.\n",
    "    \n",
    "    \n",
    "</span>"
   ]
  },
  {
   "cell_type": "code",
   "execution_count": 26,
   "id": "unusual-specification",
   "metadata": {},
   "outputs": [
    {
     "data": {
      "text/plain": [
       "<3953x6042 sparse matrix of type '<class 'numpy.longlong'>'\n",
       "\twith 836483 stored elements in Compressed Sparse Column format>"
      ]
     },
     "execution_count": 26,
     "metadata": {},
     "output_type": "execute_result"
    }
   ],
   "source": [
    "csr_data_transpose = csr_data.T\n",
    "csr_data_transpose"
   ]
  },
  {
   "cell_type": "markdown",
   "id": "extraordinary-angel",
   "metadata": {},
   "source": [
    "### 7.3  Model train"
   ]
  },
  {
   "cell_type": "markdown",
   "id": "molecular-jacket",
   "metadata": {},
   "source": [
    "<span style=\"font-family: Open Sans; font-weight: 700; font-size: 14px; font-style: normal\">\n",
    "\n",
    "> 입력값 전처리 과정이 완료된 데이터를 활용하여 모델을 학습하는 과정을 진행한다.\n",
    "    \n",
    "</span>"
   ]
  },
  {
   "cell_type": "code",
   "execution_count": 27,
   "id": "going-basement",
   "metadata": {},
   "outputs": [
    {
     "data": {
      "application/vnd.jupyter.widget-view+json": {
       "model_id": "ec8cde5a230242e39ccea38ae64c48ef",
       "version_major": 2,
       "version_minor": 0
      },
      "text/plain": [
       "  0%|          | 0/15 [00:00<?, ?it/s]"
      ]
     },
     "metadata": {},
     "output_type": "display_data"
    }
   ],
   "source": [
    "als_model.fit(csr_data_transpose)"
   ]
  },
  {
   "cell_type": "markdown",
   "id": "friendly-particle",
   "metadata": {},
   "source": [
    "# 8. My movie preference predicted by model"
   ]
  },
  {
   "cell_type": "markdown",
   "id": "casual-suspension",
   "metadata": {},
   "source": [
    "<span style=\"font-family: Open Sans; font-weight: 700; font-size: 14px; font-style: normal\">\n",
    "\n",
    "> 학습된 모델을 활용하여 유저ID와 영화ID를 입력했을때 본인과의 영화 선호도를 확인하는 과정을 진행한다.<br>\n",
    "해당 모델에 본인의 userID인 '6041'과, 선호하는 영화로 설정한 '토이스토리' 영화를 입력하고 결과를 확인해보자.\n",
    "    \n",
    "    \n",
    "</span>"
   ]
  },
  {
   "cell_type": "markdown",
   "id": "elder-tattoo",
   "metadata": {},
   "source": [
    "## 8.1 자신이 선호하는 영화를 입력값으로 사용했을 때"
   ]
  },
  {
   "cell_type": "code",
   "execution_count": 105,
   "id": "complex-confirmation",
   "metadata": {},
   "outputs": [],
   "source": [
    "my_vector, matrix_vector = als_model.user_factors[user_to_idx[6041]], als_model.item_factors[1]"
   ]
  },
  {
   "cell_type": "code",
   "execution_count": 106,
   "id": "fluid-range",
   "metadata": {},
   "outputs": [
    {
     "data": {
      "text/plain": [
       "array([-0.9992447 , -1.0846914 ,  0.02531237,  0.17137676, -0.79418373,\n",
       "        1.1368418 , -1.6550823 , -0.01553346, -1.4710191 ,  0.33333915,\n",
       "        2.7565835 , -1.6275566 ,  0.6693096 ,  2.0235217 ,  0.7970501 ,\n",
       "       -0.5363255 , -3.849036  ,  2.3766172 , -0.7285708 , -0.10328404,\n",
       "       -2.0259974 , -1.1376063 ,  1.99014   ,  2.9322135 ,  1.8603226 ,\n",
       "        0.4099909 ,  0.6631397 ,  1.776518  , -1.9533402 ,  3.9118981 ,\n",
       "       -0.2457404 , -1.6168411 ,  0.12237563,  1.0861238 , -2.5260956 ,\n",
       "       -0.1271631 , -0.15279636,  0.93559104, -1.107264  ,  0.6057758 ,\n",
       "       -4.51818   , -0.01325936,  0.6688612 , -0.02702247,  1.1979016 ,\n",
       "       -1.487886  ,  0.85905474,  1.8760594 ,  1.6858588 ,  1.5230583 ,\n",
       "       -2.7837036 ,  1.0633866 , -2.5328364 , -0.14966694,  4.1681557 ,\n",
       "       -1.415355  ,  1.2545073 , -0.3437978 , -1.4858036 ,  1.5652646 ,\n",
       "        1.8278934 , -1.8228377 , -0.17847553,  1.504015  , -2.2414556 ,\n",
       "       -0.5521315 ,  0.44287053, -0.8839254 ,  3.8620763 ,  1.2507199 ,\n",
       "       -3.4968002 ,  0.05789606, -0.7367445 ,  2.7191205 ,  0.8131213 ,\n",
       "        0.14826606,  0.2972649 ,  2.837853  , -0.2719746 ,  2.3820493 ,\n",
       "       -0.16746442,  0.21718514,  4.754696  , -1.0017289 ,  4.4995775 ,\n",
       "       -0.651385  ,  0.4418487 , -1.1780652 , -1.2842546 ,  0.95008826,\n",
       "        2.2551463 , -0.2932143 ,  0.19627276, -1.2089558 , -0.7909312 ,\n",
       "        1.4300421 ,  1.4233648 , -0.09569394, -0.6643208 , -0.04580843],\n",
       "      dtype=float32)"
      ]
     },
     "execution_count": 106,
     "metadata": {},
     "output_type": "execute_result"
    }
   ],
   "source": [
    "my_vector"
   ]
  },
  {
   "cell_type": "code",
   "execution_count": 107,
   "id": "limited-found",
   "metadata": {},
   "outputs": [
    {
     "data": {
      "text/plain": [
       "array([ 0.01999431, -0.01180308,  0.03431285, -0.02355094,  0.00482963,\n",
       "       -0.01516254, -0.00622978,  0.02879209,  0.02229737,  0.00831294,\n",
       "        0.01261095, -0.01782784,  0.02415066,  0.01178645,  0.01092918,\n",
       "       -0.00461352,  0.00560269,  0.01808929, -0.01303993, -0.0314715 ,\n",
       "       -0.014703  ,  0.02384073, -0.00973223,  0.0315791 ,  0.03014223,\n",
       "        0.03337861,  0.01076915,  0.01712128, -0.00098175,  0.00308527,\n",
       "       -0.02775609, -0.02075213,  0.01241486,  0.01553525, -0.03167108,\n",
       "        0.03473494,  0.02184514, -0.01185995, -0.02657325,  0.01001751,\n",
       "        0.01182945,  0.00665671,  0.01022209,  0.00498889,  0.03279069,\n",
       "       -0.00475936,  0.00972375, -0.00606521, -0.007482  ,  0.01174498,\n",
       "        0.02993895,  0.00722868, -0.01331705,  0.03240355,  0.02716789,\n",
       "       -0.0097424 ,  0.01603114,  0.00421101,  0.03281206, -0.009165  ,\n",
       "        0.02836874,  0.00264697, -0.00083136,  0.01339258,  0.02184577,\n",
       "       -0.03029914,  0.00651341, -0.02020522,  0.02248817,  0.02556485,\n",
       "        0.03556426, -0.0216147 ,  0.00264839,  0.01970733,  0.01226451,\n",
       "        0.04048808,  0.02970129,  0.015428  ,  0.0318754 ,  0.01795297,\n",
       "        0.0130353 , -0.01008913, -0.00148054, -0.018329  ,  0.00402098,\n",
       "       -0.01331164,  0.01195411, -0.02908919,  0.0225367 , -0.00680302,\n",
       "       -0.00966042,  0.00235314, -0.02830527, -0.01581617,  0.00063049,\n",
       "       -0.02937533,  0.00389571,  0.01913049,  0.019088  ,  0.04598078],\n",
       "      dtype=float32)"
      ]
     },
     "execution_count": 107,
     "metadata": {},
     "output_type": "execute_result"
    }
   ],
   "source": [
    "matrix_vector"
   ]
  },
  {
   "cell_type": "code",
   "execution_count": 42,
   "id": "accurate-studio",
   "metadata": {},
   "outputs": [
    {
     "data": {
      "text/plain": [
       "0.6665071"
      ]
     },
     "execution_count": 42,
     "metadata": {},
     "output_type": "execute_result"
    }
   ],
   "source": [
    "np.dot(my_vector, matrix_vector)"
   ]
  },
  {
   "cell_type": "markdown",
   "id": "concrete-anime",
   "metadata": {},
   "source": [
    "<span style=\"font-family: Open Sans; font-weight: 700; font-size: 14px; font-style: normal\">\n",
    "\n",
    "> 예측 결과 선호도가 0.66이 나왔다.<br>\n",
    "현재는 이 모델의 결과 기준이 명확하지 않으므로, 0.66라는 수치가 선호도가 높다고 예측한것인지 확신할 수 없다.<br>\n",
    "    \n",
    "</span>"
   ]
  },
  {
   "cell_type": "markdown",
   "id": "occupied-appraisal",
   "metadata": {},
   "source": [
    "## 8.2 자신이 선호하는 목록에 없는 영화를 입력값으로 사용했을 때"
   ]
  },
  {
   "cell_type": "code",
   "execution_count": 82,
   "id": "worthy-administration",
   "metadata": {},
   "outputs": [
    {
     "data": {
      "text/plain": [
       "'Toy Story (1995)'"
      ]
     },
     "execution_count": 82,
     "metadata": {},
     "output_type": "execute_result"
    }
   ],
   "source": [
    "movie_id = movies[movies['movie_id']==1]['title']\n",
    "movie_id.values[0]"
   ]
  },
  {
   "cell_type": "code",
   "execution_count": 83,
   "id": "ideal-small",
   "metadata": {},
   "outputs": [
    {
     "data": {
      "text/plain": [
       "0.2521515"
      ]
     },
     "execution_count": 83,
     "metadata": {},
     "output_type": "execute_result"
    }
   ],
   "source": [
    "movie_id = movies[movies['title']=='Shawshank Redemption, The (1994)']['movie_id']\n",
    "Men_vector = als_model.item_factors[movie_id.values[0]]\n",
    "np.dot(my_vector, Men_vector)"
   ]
  },
  {
   "cell_type": "markdown",
   "id": "unlikely-webcam",
   "metadata": {},
   "source": [
    "<span style=\"font-family: Open Sans; font-weight: 700; font-size: 14px; font-style: normal\">\n",
    "\n",
    "> 예측 결과 선호도가 0.25가 나왔다.<br>\n",
    "선호하는 영화의 선호도 예측 값과 비교했을 때, 값이 클수록 선호할 확률이 높다고 추론할 수 있을것 같다\n",
    "\n",
    "    \n",
    "</span>"
   ]
  },
  {
   "cell_type": "markdown",
   "id": "catholic-castle",
   "metadata": {},
   "source": [
    "## 9. 내가 좋아하는 영화와 비슷한 영화를 추천받기"
   ]
  },
  {
   "cell_type": "markdown",
   "id": "overall-maine",
   "metadata": {},
   "source": [
    "<span style=\"font-family: Open Sans; font-weight: 700; font-size: 14px; font-style: normal\">\n",
    "\n",
    "> als모델을 활용하여 본인이 좋아하는 '토이스토리'영화를 명시적으로 제시하면서 비슷한 영화를 10가지 정도 추천받고자 한다.\n",
    "    \n",
    "</span>"
   ]
  },
  {
   "cell_type": "code",
   "execution_count": 84,
   "id": "lasting-accessory",
   "metadata": {},
   "outputs": [
    {
     "data": {
      "text/plain": [
       "[(1, 1.0),\n",
       " (3114, 0.8095769),\n",
       " (2355, 0.6098219),\n",
       " (588, 0.56986815),\n",
       " (34, 0.5575344),\n",
       " (1265, 0.54453635),\n",
       " (364, 0.4742926),\n",
       " (2321, 0.46870816),\n",
       " (1923, 0.44691968),\n",
       " (595, 0.44175726),\n",
       " (2396, 0.3829617)]"
      ]
     },
     "execution_count": 84,
     "metadata": {},
     "output_type": "execute_result"
    }
   ],
   "source": [
    "movie_id = movies[movies['title']=='Toy Story (1995)']['movie_id']\n",
    "similar_movie = als_model.similar_items(movie_id.values[0], N=11)\n",
    "similar_movie"
   ]
  },
  {
   "cell_type": "markdown",
   "id": "understanding-tomato",
   "metadata": {},
   "source": [
    "<span style=\"font-family: Open Sans; font-weight: 700; font-size: 14px; font-style: normal\">\n",
    "\n",
    "> 영화 ID로 출력되니 본인이 추천받은 영화가 어떤 것인지 알 수가 없다.<br>\n",
    "위 단점을 해결하기 위해 데이터를 정제하여 재 출력하는 작업을 수행한다.\n",
    "    \n",
    "</span>"
   ]
  },
  {
   "cell_type": "code",
   "execution_count": 100,
   "id": "sustained-steal",
   "metadata": {},
   "outputs": [
    {
     "name": "stdout",
     "output_type": "stream",
     "text": [
      "제목 : Toy Story (1995),    선호도 : 1.0\n",
      "제목 : Toy Story 2 (1999),    선호도 : 0.8095769286155701\n",
      "제목 : Bug's Life, A (1998),    선호도 : 0.6098219156265259\n",
      "제목 : Aladdin (1992),    선호도 : 0.5698681473731995\n",
      "제목 : Babe (1995),    선호도 : 0.557534396648407\n",
      "제목 : Groundhog Day (1993),    선호도 : 0.5445363521575928\n",
      "제목 : Lion King, The (1994),    선호도 : 0.4742926061153412\n",
      "제목 : Pleasantville (1998),    선호도 : 0.4687081575393677\n",
      "제목 : There's Something About Mary (1998),    선호도 : 0.44691967964172363\n",
      "제목 : Beauty and the Beast (1991),    선호도 : 0.4417572617530823\n",
      "제목 : Shakespeare in Love (1998),    선호도 : 0.3829616904258728\n"
     ]
    }
   ],
   "source": [
    "for i in similar_movie: \n",
    "    movie_title = movies[movies['movie_id']==i[0]]['title']\n",
    "    print(\"제목 : {},    선호도 : {}\".format(movie_title.values[0], i[1]))"
   ]
  },
  {
   "cell_type": "markdown",
   "id": "pretty-bidder",
   "metadata": {},
   "source": [
    "<span style=\"font-family: Open Sans; font-weight: 700; font-size: 14px; font-style: normal\">\n",
    "\n",
    "> 최상단의 첫번째 영화는 추천을 받기위해 입력한 영화이므로, 선호도가 1이 나왔다.<br>\n",
    "als 모델이 추천해준 영화로, 토이스토리의 후속작 토이스토리2를 첫번째로 추천해주었다. 추천좀 할 줄 아는 모델이다.<br>\n",
    "그 외에도 알라딘, 라이온 킹 등 만화 영화와 관련된 영화를 잘 추천해주었다.<br>\n",
    "이정도면 구글 영화 추천 알고리즘과 흡사하게 추천해준것같다.\n",
    "\n",
    "</span>"
   ]
  },
  {
   "cell_type": "markdown",
   "id": "fiscal-powder",
   "metadata": {},
   "source": [
    "## 10. 내가 가장 좋아할 만한 영화들을 추천받기"
   ]
  },
  {
   "cell_type": "markdown",
   "id": "heavy-panel",
   "metadata": {},
   "source": [
    "<span style=\"font-family: Open Sans; font-weight: 700; font-size: 14px; font-style: normal\">\n",
    "\n",
    "> 이번에는 본인이 좋아하는 영화를 알려주지 않음으로써, 암묵적인 데이터로 영화를 10개정도 추천받고자 한다.\n",
    "    \n",
    "</span>"
   ]
  },
  {
   "cell_type": "code",
   "execution_count": 103,
   "id": "political-amazon",
   "metadata": {},
   "outputs": [
    {
     "data": {
      "text/plain": [
       "[(480, 0.5601715),\n",
       " (3114, 0.4590773),\n",
       " (2396, 0.44092214),\n",
       " (2571, 0.4335491),\n",
       " (356, 0.39417183),\n",
       " (2997, 0.3772466),\n",
       " (110, 0.3428154),\n",
       " (2916, 0.33475113),\n",
       " (34, 0.33031872),\n",
       " (2599, 0.30460325),\n",
       " (2355, 0.2958893)]"
      ]
     },
     "execution_count": 103,
     "metadata": {},
     "output_type": "execute_result"
    }
   ],
   "source": [
    "implicit_movie_recommend = als_model.recommend(6041, csr_data, N=11, filter_already_liked_items=True)\n",
    "implicit_movie_recommend"
   ]
  },
  {
   "cell_type": "markdown",
   "id": "historical-singles",
   "metadata": {},
   "source": [
    "<span style=\"font-family: Open Sans; font-weight: 700; font-size: 14px; font-style: normal\">\n",
    "\n",
    "> 본인이 추천받은 영화가 어떤 것인지 알기위해 데이터를 정제하여 재 출력하는 작업을 수행한다.\n",
    "    \n",
    "</span>"
   ]
  },
  {
   "cell_type": "code",
   "execution_count": 104,
   "id": "extreme-swaziland",
   "metadata": {},
   "outputs": [
    {
     "name": "stdout",
     "output_type": "stream",
     "text": [
      "제목 : Jurassic Park (1993),    선호도 : 0.5601714849472046\n",
      "제목 : Toy Story 2 (1999),    선호도 : 0.45907729864120483\n",
      "제목 : Shakespeare in Love (1998),    선호도 : 0.4409221410751343\n",
      "제목 : Matrix, The (1999),    선호도 : 0.43354910612106323\n",
      "제목 : Forrest Gump (1994),    선호도 : 0.3941718339920044\n",
      "제목 : Being John Malkovich (1999),    선호도 : 0.37724658846855164\n",
      "제목 : Braveheart (1995),    선호도 : 0.3428153991699219\n",
      "제목 : Total Recall (1990),    선호도 : 0.3347511291503906\n",
      "제목 : Babe (1995),    선호도 : 0.33031871914863586\n",
      "제목 : Election (1999),    선호도 : 0.30460324883461\n",
      "제목 : Bug's Life, A (1998),    선호도 : 0.295889288187027\n"
     ]
    }
   ],
   "source": [
    "for i in implicit_movie_recommend: \n",
    "    movie_title = movies[movies['movie_id']==i[0]]['title']\n",
    "    print(\"제목 : {},    선호도 : {}\".format(movie_title.values[0], i[1]))"
   ]
  },
  {
   "cell_type": "markdown",
   "id": "statistical-rental",
   "metadata": {},
   "source": [
    "<span style=\"font-family: Open Sans; font-weight: 700; font-size: 14px; font-style: normal\">\n",
    "\n",
    "> als 모델이 본인에게 강추한 영화는 쥬라기 월드다. 명작을 볼 줄 아는 모델이다.<br>\n",
    "그 외에도 만화 영화, 로맨스, 액션 등 본인이 선호하는 영화 장르와 일치하는 영화를 잘 추천해주었다.<br>\n",
    "이정도면 넷플릭스 못지 않게 잘 추천해준것같다.\n",
    "\n",
    "</span>"
   ]
  },
  {
   "cell_type": "markdown",
   "id": "mechanical-reply",
   "metadata": {},
   "source": [
    "# [ 회고 ]"
   ]
  },
  {
   "cell_type": "markdown",
   "id": "essential-protest",
   "metadata": {},
   "source": [
    "<span style=\"font-family: Open Sans; font-weight: 700; font-size: 14px; font-style: normal\">\n",
    "\n",
    "> 온라인 쇼핑몰 주로 사용되는 추천 시스템은 최근 쇼핑에만 국한되지 않고 교육, 방송, 컨텐츠 플랫폼 등 사람과 상호작용 하는 모든 분야에 적용되고 있다. 이러한 추천 시스템의 간단한 원리와 구조는 알고 있었으나, Matrix 구조까지 접근하며 깊게 탐구한 경험은 없었기에 이번 실습은 추천 시스템의 동작 원리를 학습함과 동시에 예제에 기재되지 않은 여러 추천 기준을 생각해보며 작업한 좋은 경험이였다. \n",
    "</span>"
   ]
  }
 ],
 "metadata": {
  "kernelspec": {
   "display_name": "Python 3",
   "language": "python",
   "name": "python3"
  },
  "language_info": {
   "codemirror_mode": {
    "name": "ipython",
    "version": 3
   },
   "file_extension": ".py",
   "mimetype": "text/x-python",
   "name": "python",
   "nbconvert_exporter": "python",
   "pygments_lexer": "ipython3",
   "version": "3.7.9"
  }
 },
 "nbformat": 4,
 "nbformat_minor": 5
}
